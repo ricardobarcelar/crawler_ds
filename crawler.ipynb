{
 "cells": [
  {
   "cell_type": "markdown",
   "id": "dfed42a6",
   "metadata": {},
   "source": [
    "\n",
    "# Pipeline de Coleta → Extração → Limpeza → Deduplicação → Shards (Notebook)\n",
    "\n",
    "Este notebook executa o pipeline em **etapas**, permitindo inspeção e depuração fase a fase.\n",
    "\n",
    "> **Tema**: violência doméstica no contexto da atuação policial  \n",
    "> **Entrada**: `crawl_manifest.jsonl` (manifesto deduplicado com URLs, **formato JSONL**)  \n",
    "> **Saída**: diretório `OUTDIR/` com brutos (`data/raw`), textos limpos (`data/text`), shards JSONL (`data/shards`) e relatórios (`logs/`)\n"
   ]
  },
  {
   "cell_type": "markdown",
   "id": "bad69763",
   "metadata": {},
   "source": [
    "## 1) Configurações"
   ]
  },
  {
   "cell_type": "code",
   "execution_count": null,
   "id": "b5fa6933",
   "metadata": {},
   "outputs": [],
   "source": [
    "#!pip install jsonlines\n",
    "#!pip install tabulate\n",
    "!pip install PyMuPDF pdfminer.six"
   ]
  },
  {
   "cell_type": "code",
   "execution_count": 1,
   "id": "26790dc1",
   "metadata": {},
   "outputs": [
    {
     "name": "stdout",
     "output_type": "stream",
     "text": [
      "OUTDIR: /home/ricardo/Documentos/PESSOAL/Mestrado/Dataset/corpus_out_nb\n"
     ]
    }
   ],
   "source": [
    "\n",
    "from pathlib import Path\n",
    "import os\n",
    "\n",
    "# Caminhos\n",
    "MANIFEST = Path(\"ds_grupos_vulneraveis.jsonl\")  # <--- ALTERADO: JSONL\n",
    "OUTDIR = Path(\"corpus_out_nb\")\n",
    "\n",
    "# Parâmetros\n",
    "RATE = 1.0                # requisições por segundo (global)\n",
    "MAX_WORKERS = 6           # threads de download/extração\n",
    "TIMEOUT = 15              # timeout por requisição (s)\n",
    "MIN_CHARS = 300           # mínimo de caracteres por doc (após limpeza)\n",
    "SHARD_SIZE_MB = 100.0     # tamanho alvo de cada shard\n",
    "LOG_LEVEL = \"INFO\"        # \"DEBUG\" para mais verbosidade\n",
    "USER_AGENT = \"Mozilla/5.0 (X11; Linux x86_64) AppleWebKit/537.36 (KHTML, like Gecko) Chrome/119 Safari/537.36\"\n",
    "\n",
    "# Preparar diretórios de saída\n",
    "for sub in [\"data/raw\", \"data/text\", \"data/shards\", \"logs\"]:\n",
    "    (OUTDIR / sub).mkdir(parents=True, exist_ok=True)\n",
    "\n",
    "print(\"OUTDIR:\", OUTDIR.resolve())\n"
   ]
  },
  {
   "cell_type": "markdown",
   "id": "3b3a991f",
   "metadata": {},
   "source": [
    "## 2) Imports e utilitários"
   ]
  },
  {
   "cell_type": "code",
   "execution_count": 2,
   "id": "2695c2aa",
   "metadata": {},
   "outputs": [
    {
     "name": "stdout",
     "output_type": "stream",
     "text": [
      "Setup complete.\n"
     ]
    }
   ],
   "source": [
    "\n",
    "import csv, re, json, time, hashlib, logging\n",
    "from urllib.parse import urlparse, urlunparse\n",
    "from concurrent.futures import ThreadPoolExecutor, as_completed\n",
    "\n",
    "import requests\n",
    "from bs4 import BeautifulSoup\n",
    "\n",
    "# Adicionar importação de jsonlines\n",
    "try:\n",
    "    import jsonlines\n",
    "except ImportError:\n",
    "    logging.error(\"A biblioteca 'jsonlines' é necessária. Instale com 'pip install jsonlines'\")\n",
    "    jsonlines = None\n",
    "\n",
    "# Dependências opcionais (tratadas com fallback)\n",
    "try:\n",
    "    import trafilatura\n",
    "except Exception:\n",
    "    trafilatura = None\n",
    "\n",
    "try:\n",
    "    import fitz  # PyMuPDF\n",
    "except Exception:\n",
    "    fitz = None\n",
    "\n",
    "try:\n",
    "    from pdfminer.high_level import extract_text as pdfminer_extract_text\n",
    "except Exception:\n",
    "    pdfminer_extract_text = None\n",
    "\n",
    "# Logging\n",
    "logging.basicConfig(level=getattr(logging, LOG_LEVEL.upper(), logging.INFO),\n",
    "                    format=\"%(asctime)s %(levelname)s: %(message)s\")\n",
    "log = logging.getLogger(\"pipeline_nb\")\n",
    "\n",
    "# Sessão HTTP com retries e headers de navegador\n",
    "from requests.adapters import HTTPAdapter\n",
    "from urllib3.util.retry import Retry\n",
    "\n",
    "def build_session(timeout: int, user_agent: str):\n",
    "    s = requests.Session()\n",
    "    retries = Retry(total=3, backoff_factor=0.8, status_forcelist=[429,500,502,503,504])\n",
    "    s.mount(\"http://\", HTTPAdapter(max_retries=retries))\n",
    "    s.mount(\"https://\", HTTPAdapter(max_retries=retries))\n",
    "    s.headers.update({\n",
    "        \"User-Agent\": user_agent,\n",
    "        \"Accept\": \"text/html,application/xhtml+xml,application/xml;q=0.9,*/*;q=0.8\",\n",
    "        \"Accept-Language\": \"pt-BR,pt;q=0.9,en;q=0.8\",\n",
    "        \"Connection\": \"keep-alive\",\n",
    "    })\n",
    "    orig = s.request\n",
    "    def wrapped(method, url, **kwargs):\n",
    "        kwargs.setdefault(\"timeout\", timeout)\n",
    "        return orig(method, url, **kwargs)\n",
    "    s.request = wrapped\n",
    "    return s\n",
    "\n",
    "session = build_session(TIMEOUT, USER_AGENT)\n",
    "\n",
    "def sha1(s: str) -> str: return hashlib.sha1(s.encode(\"utf-8\")).hexdigest()\n",
    "def sha256(s: str) -> str: return hashlib.sha256(s.encode(\"utf-8\")).hexdigest()\n",
    "\n",
    "def norm_url(u: str) -> str:\n",
    "    p = urlparse(u); path = p.path.rstrip(\"/\")\n",
    "    return urlunparse((p.scheme, p.netloc.lower(), path, \"\", \"\", \"\"))\n",
    "\n",
    "# Rate limiter simples (token bucket)\n",
    "class RateLimiter:\n",
    "    def __init__(self, rate_per_sec: float):\n",
    "        import threading\n",
    "        self.rate = max(rate_per_sec, 0.1)\n",
    "        self.tokens = self.rate\n",
    "        self.last = time.monotonic()\n",
    "        self.lock = threading.Lock()\n",
    "    def acquire(self):\n",
    "        with self.lock:\n",
    "            while True:\n",
    "                now = time.monotonic()\n",
    "                elapsed = now - self.last\n",
    "                self.tokens = min(self.rate, self.tokens + elapsed * self.rate)\n",
    "                self.last = now\n",
    "                if self.tokens >= 1.0:\n",
    "                    self.tokens -= 1.0\n",
    "                    return\n",
    "                time.sleep((1.0 - self.tokens) / self.rate)\n",
    "\n",
    "limiter = RateLimiter(RATE)\n",
    "\n",
    "print(\"Setup complete.\")\n"
   ]
  },
  {
   "cell_type": "markdown",
   "id": "c5dfa223",
   "metadata": {},
   "source": [
    "## 3) Checagem de `robots.txt` (com timeout)"
   ]
  },
  {
   "cell_type": "code",
   "execution_count": 3,
   "id": "3fbf4694",
   "metadata": {},
   "outputs": [
    {
     "name": "stdout",
     "output_type": "stream",
     "text": [
      "Setup complete.\n"
     ]
    }
   ],
   "source": [
    "\n",
    "from urllib import robotparser\n",
    "\n",
    "class RobotsCache:\n",
    "    \"\"\"Busca robots.txt com requests e timeout; se falhar, assume permitido.\"\"\"\n",
    "    def __init__(self, user_agent: str, timeout: int = 15):\n",
    "        self.user_agent = user_agent\n",
    "        self.timeout = timeout\n",
    "        self.cache = {}\n",
    "    def can_fetch(self, url: str) -> bool:\n",
    "        p = urlparse(url)\n",
    "        base = f\"{p.scheme}://{p.netloc}\"\n",
    "        if base in self.cache:\n",
    "            rp = self.cache[base]\n",
    "            if rp is None: return True\n",
    "            try:\n",
    "                return rp.can_fetch(self.user_agent, url)\n",
    "            except Exception:\n",
    "                return True\n",
    "        robots_url = base + \"/robots.txt\"\n",
    "        rp = robotparser.RobotFileParser()\n",
    "        try:\n",
    "            resp = session.get(robots_url)  # session já tem timeout\n",
    "            if resp.status_code != 200 or not resp.content:\n",
    "                self.cache[base] = None\n",
    "                return True\n",
    "            rp.parse(resp.text.splitlines())\n",
    "            self.cache[base] = rp\n",
    "            return rp.can_fetch(self.user_agent, url)\n",
    "        except Exception:\n",
    "            self.cache[base] = None\n",
    "            return True\n",
    "\n",
    "robots = RobotsCache(USER_AGENT, timeout=TIMEOUT)\n",
    "\n",
    "print(\"Setup complete.\")"
   ]
  },
  {
   "cell_type": "markdown",
   "id": "f8beb51c",
   "metadata": {},
   "source": [
    "## 4) Carregar manifesto e deduplicar URLs (Lendo JSONL)"
   ]
  },
  {
   "cell_type": "code",
   "execution_count": 3,
   "id": "13258835",
   "metadata": {},
   "outputs": [
    {
     "name": "stdout",
     "output_type": "stream",
     "text": [
      "Registros no Manifesto (originais): 759\n",
      "Registros Únicos (após dedup por URL): 184\n",
      "\n",
      "Primeiros 3 registros (deduplicados):\n",
      "\n",
      "| title                                                                                        | url                                                                                                         | date       | source_type            | type   |   group | url_norm                                                                                                    |\n",
      "|:---------------------------------------------------------------------------------------------|:------------------------------------------------------------------------------------------------------------|:-----------|:-----------------------|:-------|--------:|:------------------------------------------------------------------------------------------------------------|\n",
      "| Portaria DGP 08/2022 (PC/SP): Tratamento Específico a Travestis e Transexuais nas Delegacias | https://www.stj.jus.br/sites/portalp/WebPub/NovoPortal/assets/flip-page/panorama_9_2024_noticias_2023.pdf   | 2022-03-01 | portaria_institucional | pdf    |     nan | https://www.stj.jus.br/sites/portalp/WebPub/NovoPortal/assets/flip-page/panorama_9_2024_noticias_2023.pdf   |\n",
      "| POP - Procedimento Operacional Padrão da Pessoa Idosa (PCDF)                                 | https://social.rs.gov.br/upload/arquivos/202212/06142737-2021-12-procedoperacionalpadrao-pop-idoso-pcdf.pdf | 2021-12-09 | manual_técnico_POP     | pdf    |     nan | https://social.rs.gov.br/upload/arquivos/202212/06142737-2021-12-procedoperacionalpadrao-pop-idoso-pcdf.pdf |\n",
      "| POP - Procedimento Operacional Padrão de Abordagem Policial (LGBTQIAPN+) - SSP/PI            | https://www.ssp.pi.gov.br/wp-content/uploads/2025/06/SSP01_fa3d283ba1.pdf                                   | 2024-07-01 | manual_técnico_POP     | pdf    |     nan | https://www.ssp.pi.gov.br/wp-content/uploads/2025/06/SSP01_fa3d283ba1.pdf                                   |\n"
     ]
    }
   ],
   "source": [
    "\n",
    "import pandas as pd\n",
    "\n",
    "if not jsonlines:\n",
    "    raise ImportError(\"A biblioteca 'jsonlines' não foi importada corretamente. Verifique a instalação.\")\n",
    "\n",
    "records = []\n",
    "try:\n",
    "    with open(MANIFEST, 'r', encoding='utf-8') as f:\n",
    "        reader = jsonlines.Reader(f)\n",
    "        for obj in reader:\n",
    "            # Garantir que a URL e o título existam para validade básica\n",
    "            if 'url' in obj and 'title' in obj:\n",
    "                records.append(obj)\n",
    "            else:\n",
    "                log.warning(f\"Registro ignorado no manifesto JSONL (Falta URL/Title). Chaves: {obj.keys()}\")\n",
    "except FileNotFoundError:\n",
    "    log.error(f\"Arquivo manifesto não encontrado: {MANIFEST}\")\n",
    "except Exception as e:\n",
    "    log.error(f\"Erro ao ler o manifesto JSONL: {e}\")\n",
    "\n",
    "# Converter para DataFrame para facilidade de manipulação Pandas\n",
    "df = pd.DataFrame(records)\n",
    "\n",
    "if df.empty:\n",
    "    log.error(\"Nenhum registro válido encontrado no manifesto. Finalizando.\")\n",
    "    dedup = pd.DataFrame()\n",
    "else:\n",
    "    df.columns = [c.strip().lower() for c in df.columns]\n",
    "    df[\"url_norm\"] = df[\"url\"].apply(norm_url)\n",
    "    \n",
    "    # Deduplicação baseada na URL normalizada\n",
    "    dedup = df.drop_duplicates(subset=[\"url_norm\"]).reset_index(drop=True)\n",
    "\n",
    "print(f\"Registros no Manifesto (originais): {len(df)}\")\n",
    "print(f\"Registros Únicos (após dedup por URL): {len(dedup)}\")\n",
    "print(\"\\nPrimeiros 3 registros (deduplicados):\\n\")\n",
    "print(dedup.head(3).to_markdown(index=False))\n"
   ]
  },
  {
   "cell_type": "markdown",
   "id": "9e62158f",
   "metadata": {},
   "source": [
    "## 5) Funções de extração e limpeza"
   ]
  },
  {
   "cell_type": "code",
   "execution_count": null,
   "id": "e5c5a165",
   "metadata": {},
   "outputs": [
    {
     "name": "stdout",
     "output_type": "stream",
     "text": [
      "Text extraction functions defined.\n"
     ]
    }
   ],
   "source": [
    "\n",
    "import fitz, pdfminer.high_level\n",
    "\n",
    "EMAIL_RE = re.compile(r\"\\b[\\w\\.-]+@[\\w\\.-]+\\.\\w{2,}\\b\", re.IGNORECASE)\n",
    "CPF_RE = re.compile(r\"\\b\\d{3}\\.\\d{3}\\.\\d{3}-\\d{2}\\b\")\n",
    "CNPJ_RE = re.compile(r\"\\b\\d{2}\\.\\d{3}\\.\\d{3}/\\d{4}-\\d{2}\\b\")\n",
    "MULTISPACE = re.compile(r\"[ \\t]+\")\n",
    "MULTINEWLINE = re.compile(r\"\\n{3,}\")\n",
    "\n",
    "def clean_text(s: str) -> str:\n",
    "    if not s: return \"\"\n",
    "    s = s.replace(\"\\ufeff\", \"\").replace(\"-\\n\",\"\")\n",
    "    s = MULTISPACE.sub(\" \", s)\n",
    "    s = MULTINEWLINE.sub(\"\\n\\n\", s)\n",
    "    s = EMAIL_RE.sub(\"<EMAIL>\", s)\n",
    "    s = CPF_RE.sub(\"<CPF>\", s)\n",
    "    s = CNPJ_RE.sub(\"<CNPJ>\", s)\n",
    "    return s.strip()\n",
    "\n",
    "def extract_html_main(html_bytes: bytes) -> str:\n",
    "    if trafilatura is not None:\n",
    "        try:\n",
    "            txt = trafilatura.extract(html_bytes, include_comments=False, include_tables=False, favor_recall=True)\n",
    "            if txt and txt.strip():\n",
    "                return txt.strip()\n",
    "        except Exception:\n",
    "            pass\n",
    "    try:\n",
    "        soup = BeautifulSoup(html_bytes, \"lxml\")\n",
    "        for tag in soup([\"script\",\"style\",\"nav\",\"header\",\"footer\",\"noscript\",\"aside\"]):\n",
    "            tag.decompose()\n",
    "        return soup.get_text(\"\\n\").strip()\n",
    "    except Exception:\n",
    "        return \"\"\n",
    "\n",
    "def extract_pdf_text(pdf_path: str) -> str:\n",
    "    if fitz is not None:\n",
    "        try:\n",
    "            doc = fitz.open(pdf_path)\n",
    "            parts = [page.get_text(\"text\") for page in doc]\n",
    "            out = \"\\n\".join(parts)\n",
    "            if out.strip():\n",
    "                return out.strip()\n",
    "        except Exception as e:\n",
    "            print(f\"fitz extraction failed. ERRO: {e}\") \n",
    "            \n",
    "    if pdfminer_extract_text is not None:\n",
    "        try:\n",
    "            out = pdfminer_extract_text(pdf_path) or \"\"\n",
    "            if out.strip():\n",
    "                return out.strip()\n",
    "        except Exception as e:\n",
    "            print(f\"pdfminer extraction failed. ERRO: {e}\")\n",
    "    \n",
    "    print(\"Nenhum método de extração funcionou.\")\n",
    "    return \"\"\n",
    "\n",
    "print(\"Text extraction functions defined.\")"
   ]
  },
  {
   "cell_type": "markdown",
   "id": "41a6876d",
   "metadata": {},
   "source": [
    "## 6) Baixar e extrair (HTML/PDF)"
   ]
  },
  {
   "cell_type": "code",
   "execution_count": 5,
   "id": "fb67a8ea",
   "metadata": {},
   "outputs": [
    {
     "name": "stdout",
     "output_type": "stream",
     "text": [
      "\n",
      "--- FASE 1: DOWNLOAD DOS ARQUIVOS BRUTOS ---\n"
     ]
    },
    {
     "name": "stderr",
     "output_type": "stream",
     "text": [
      "Baixando Brutos:   0%|          | 0/184 [00:00<?, ?it/s]2025-10-30 15:39:22,180 WARNING: Retrying (Retry(total=2, connect=None, read=None, redirect=None, status=None)) after connection broken by 'ProtocolError('Connection aborted.', ConnectionResetError(104, 'Connection reset by peer'))': /upload/arquivos/202212/06142737-2021-12-procedoperacionalpadrao-pop-idoso-pcdf.pdf\n",
      "Baixando Brutos:   1%|          | 1/184 [00:01<04:40,  1.53s/it]"
     ]
    },
    {
     "name": "stdout",
     "output_type": "stream",
     "text": [
      "Downloaded and saved: https://www.stj.jus.br/sites/portalp/WebPub/NovoPortal/assets/flip-page/panorama_9_2024_noticias_2023.pdf -> corpus_out_nb/data/raw/f3b1ee82c4c4c7eeae02.pdf -> pdf\n"
     ]
    },
    {
     "name": "stderr",
     "output_type": "stream",
     "text": [
      "Baixando Brutos:   1%|          | 2/184 [00:02<03:20,  1.10s/it]"
     ]
    },
    {
     "name": "stdout",
     "output_type": "stream",
     "text": [
      "Downloaded and saved: https://www.ssp.pi.gov.br/wp-content/uploads/2025/06/SSP01_fa3d283ba1.pdf -> corpus_out_nb/data/raw/12ebadbd73215f42a57d.pdf -> pdf\n",
      "Downloaded and saved: https://social.rs.gov.br/upload/arquivos/202212/06142737-2021-12-procedoperacionalpadrao-pop-idoso-pcdf.pdf -> corpus_out_nb/data/raw/3e74f3867048c2972726.pdf -> pdf\n"
     ]
    },
    {
     "name": "stderr",
     "output_type": "stream",
     "text": [
      "Baixando Brutos:   2%|▏         | 4/184 [00:03<02:06,  1.42it/s]"
     ]
    },
    {
     "name": "stdout",
     "output_type": "stream",
     "text": [
      "Downloaded and saved: https://news.un.org/pt/story/2024/10/1838571 -> corpus_out_nb/data/raw/f394fb49d7416d15c71c.html -> html\n"
     ]
    },
    {
     "name": "stderr",
     "output_type": "stream",
     "text": [
      "Baixando Brutos:   4%|▍         | 7/184 [00:06<02:52,  1.03it/s]"
     ]
    },
    {
     "name": "stdout",
     "output_type": "stream",
     "text": [
      "Downloaded and saved: https://www.gov.br/mj/pt-br/assuntos/noticias/mjsp-e-acnur-divulgam-relatorios-sobre-refugio-e-deslocamento-forcado-no-brasil-e-no-mundo -> corpus_out_nb/data/raw/9de4ddf770e95351dfb2.html -> html\n"
     ]
    },
    {
     "name": "stderr",
     "output_type": "stream",
     "text": [
      "Baixando Brutos:   4%|▍         | 8/184 [00:07<02:32,  1.15it/s]"
     ]
    },
    {
     "name": "stdout",
     "output_type": "stream",
     "text": [
      "Downloaded and saved: https://goias.gov.br/imb/wp-content/uploads/sites/29/2018/07/POP_Limites_Versao_001-982.pdf -> corpus_out_nb/data/raw/247d544f1d548fb31e66.pdf -> pdf\n"
     ]
    },
    {
     "name": "stderr",
     "output_type": "stream",
     "text": [
      "Baixando Brutos:   5%|▍         | 9/184 [00:08<02:16,  1.28it/s]"
     ]
    },
    {
     "name": "stdout",
     "output_type": "stream",
     "text": [
      "Downloaded and saved: https://www.gov.br/participamaisbrasil/blob/baixar/2100 -> corpus_out_nb/data/raw/046f13982dc3ab0d8917.html -> html\n"
     ]
    },
    {
     "name": "stderr",
     "output_type": "stream",
     "text": [
      "Baixando Brutos:   5%|▌         | 10/184 [00:09<02:39,  1.09it/s]"
     ]
    },
    {
     "name": "stdout",
     "output_type": "stream",
     "text": [
      "Downloaded and saved: https://www.mpf.mp.br/atuacao-tematica/ccr6/enunciados -> corpus_out_nb/data/raw/968f41fb52a5a484f312.html -> html\n"
     ]
    },
    {
     "name": "stderr",
     "output_type": "stream",
     "text": [
      "Baixando Brutos:   7%|▋         | 12/184 [00:11<02:30,  1.14it/s]"
     ]
    },
    {
     "name": "stdout",
     "output_type": "stream",
     "text": [
      "Downloaded and saved: https://www.planalto.gov.br/ccivil_03/leis/2003/l10.741.htm -> corpus_out_nb/data/raw/e719b3a708017147da53.html -> html\n"
     ]
    },
    {
     "name": "stderr",
     "output_type": "stream",
     "text": [
      "Baixando Brutos:   7%|▋         | 13/184 [00:12<02:39,  1.07it/s]"
     ]
    },
    {
     "name": "stdout",
     "output_type": "stream",
     "text": [
      "Downloaded and saved: https://www.planalto.gov.br/ccivil_03/_ato2015-2018/2015/lei/l13146.htm -> corpus_out_nb/data/raw/3b7e80d9119d6c0f76fe.html -> html\n"
     ]
    },
    {
     "name": "stderr",
     "output_type": "stream",
     "text": [
      "Baixando Brutos:   8%|▊         | 14/184 [00:13<02:42,  1.05it/s]"
     ]
    },
    {
     "name": "stdout",
     "output_type": "stream",
     "text": [
      "Downloaded and saved: https://www.gov.br/mj/pt-br/assuntos/sua-seguranca/seguranca-publica/analise-e-pesquisa/download/estudos/pspvolume5/filtragem_racial_selecao_policial_suspeitos.pdf -> corpus_out_nb/data/raw/50ef9e7853707dcc7e3d.pdf -> pdf\n"
     ]
    },
    {
     "name": "stderr",
     "output_type": "stream",
     "text": [
      "Baixando Brutos:   8%|▊         | 15/184 [00:14<02:55,  1.04s/it]"
     ]
    },
    {
     "name": "stdout",
     "output_type": "stream",
     "text": [
      "Downloaded and saved: https://antrabrasil.org/wp-content/uploads/2020/03/manual-de-seguranc387a-pc39ablica-atendimento-e-abordagem-lgbti.pdf -> corpus_out_nb/data/raw/12a2baa6475306526b56.pdf -> pdf\n"
     ]
    },
    {
     "name": "stderr",
     "output_type": "stream",
     "text": [
      "Baixando Brutos:   9%|▊         | 16/184 [00:15<03:06,  1.11s/it]"
     ]
    },
    {
     "name": "stdout",
     "output_type": "stream",
     "text": [
      "Downloaded and saved: https://www.coede.pr.gov.br/sites/coede/arquivos_restritos/files/documento/2023-05/nota_de_instrucao_no_001-2022_-_procedimentos_a_serem_observados_em_ocorrencias_envolvendo_pessoa_com_transtorno_do_espectro_autista_tea_1.pdf -> corpus_out_nb/data/raw/f91bccf104cebdc7a31e.pdf -> pdf\n"
     ]
    },
    {
     "name": "stderr",
     "output_type": "stream",
     "text": [
      "Baixando Brutos:   9%|▉         | 17/184 [00:17<03:40,  1.32s/it]"
     ]
    },
    {
     "name": "stdout",
     "output_type": "stream",
     "text": [
      "Downloaded and saved: https://ri.unipac.br/repositorio/wp-content/uploads/tainacan-items/282/129550/THIAGO-FREDERICO-MENDONCA-ABORDAGEM-POLICIAL-A-PESSOAS-COM-DEFICIENCIA.pdf -> corpus_out_nb/data/raw/d8eb2d6b9e806eb8ca82.pdf -> pdf\n"
     ]
    },
    {
     "name": "stderr",
     "output_type": "stream",
     "text": [
      "Baixando Brutos:  10%|▉         | 18/184 [00:17<02:52,  1.04s/it]"
     ]
    },
    {
     "name": "stdout",
     "output_type": "stream",
     "text": [
      "Downloaded and saved: https://www.planalto.gov.br/ccivil_03/_ato2015-2018/2017/lei/l13445.htm -> corpus_out_nb/data/raw/51522d2d8105b7dba399.html -> html\n"
     ]
    },
    {
     "name": "stderr",
     "output_type": "stream",
     "text": [
      "Baixando Brutos:  10%|█         | 19/184 [00:18<02:13,  1.24it/s]"
     ]
    },
    {
     "name": "stdout",
     "output_type": "stream",
     "text": [
      "Downloaded and saved: https://www.planalto.gov.br/ccivil_03/leis/L9474.htm -> corpus_out_nb/data/raw/3ce06512d4e4ec77f988.html -> html\n"
     ]
    },
    {
     "name": "stderr",
     "output_type": "stream",
     "text": [
      "Baixando Brutos:  11%|█         | 20/184 [00:19<02:19,  1.17it/s]"
     ]
    },
    {
     "name": "stdout",
     "output_type": "stream",
     "text": [
      "Downloaded and saved: https://www.planalto.gov.br/ccivil_03/_ato2015-2018/2015/lei/l13104.htm -> corpus_out_nb/data/raw/049da488d622b4d861a0.html -> html\n"
     ]
    },
    {
     "name": "stderr",
     "output_type": "stream",
     "text": [
      "Baixando Brutos:  11%|█▏        | 21/184 [00:20<02:41,  1.01it/s]"
     ]
    },
    {
     "name": "stdout",
     "output_type": "stream",
     "text": [
      "Downloaded and saved: https://www.mpac.mp.br/wp-content/uploads/Manual-de-abordagem-a-crianca-e-ao-adolescente-CEL-PM-Gilson-Santiago-Messias-CEDECA-BA.pdf -> corpus_out_nb/data/raw/5c9c0eafc75b6df2a2b8.pdf -> pdf\n"
     ]
    },
    {
     "name": "stderr",
     "output_type": "stream",
     "text": [
      "2025-10-30 15:39:42,263 WARNING: Retrying (Retry(total=2, connect=None, read=None, redirect=None, status=None)) after connection broken by 'SSLError(SSLCertVerificationError(1, '[SSL: CERTIFICATE_VERIFY_FAILED] certificate verify failed: unable to get local issuer certificate (_ssl.c:1007)'))': /uploads/useruploads/Cartilha-Atuacao-Policial-Direitos-Criancas-Adolescentes.pdf\n",
      "Baixando Brutos:  12%|█▏        | 22/184 [00:22<03:20,  1.24s/it]2025-10-30 15:39:44,061 WARNING: Retrying (Retry(total=1, connect=None, read=None, redirect=None, status=None)) after connection broken by 'SSLError(SSLCertVerificationError(1, '[SSL: CERTIFICATE_VERIFY_FAILED] certificate verify failed: unable to get local issuer certificate (_ssl.c:1007)'))': /uploads/useruploads/Cartilha-Atuacao-Policial-Direitos-Criancas-Adolescentes.pdf\n",
      "Baixando Brutos:  12%|█▎        | 23/184 [00:23<03:05,  1.15s/it]2025-10-30 15:39:45,204 WARNING: Retrying (Retry(total=2, connect=None, read=None, redirect=None, status=None)) after connection broken by 'SSLError(SSLCertVerificationError(1, '[SSL: CERTIFICATE_VERIFY_FAILED] certificate verify failed: unable to get local issuer certificate (_ssl.c:1007)'))': /wp-content/uploads/manual-atuacao-policia-pessoas-deficiencia.pdf\n",
      "2025-10-30 15:39:46,070 WARNING: Retrying (Retry(total=2, connect=None, read=None, redirect=None, status=None)) after connection broken by 'NewConnectionError('<urllib3.connection.HTTPSConnection object at 0x7f9cd6b69ae0>: Failed to establish a new connection: [Errno -2] Name or service not known')': /manual-atendimento-abordagem-populacao-lgbti.pdf\n",
      "2025-10-30 15:39:46,953 WARNING: Retrying (Retry(total=1, connect=None, read=None, redirect=None, status=None)) after connection broken by 'SSLError(SSLCertVerificationError(1, '[SSL: CERTIFICATE_VERIFY_FAILED] certificate verify failed: unable to get local issuer certificate (_ssl.c:1007)'))': /wp-content/uploads/manual-atuacao-policia-pessoas-deficiencia.pdf\n",
      "2025-10-30 15:39:47,405 WARNING: Retrying (Retry(total=0, connect=None, read=None, redirect=None, status=None)) after connection broken by 'SSLError(SSLCertVerificationError(1, '[SSL: CERTIFICATE_VERIFY_FAILED] certificate verify failed: unable to get local issuer certificate (_ssl.c:1007)'))': /uploads/useruploads/Cartilha-Atuacao-Policial-Direitos-Criancas-Adolescentes.pdf\n",
      "Baixando Brutos:  13%|█▎        | 24/184 [00:26<04:51,  1.82s/it]2025-10-30 15:39:47,675 WARNING: Retrying (Retry(total=1, connect=None, read=None, redirect=None, status=None)) after connection broken by 'NewConnectionError('<urllib3.connection.HTTPSConnection object at 0x7f9cd6b6ace0>: Failed to establish a new connection: [Errno -2] Name or service not known')': /manual-atendimento-abordagem-populacao-lgbti.pdf\n",
      "Baixando Brutos:  15%|█▍        | 27/184 [00:28<02:50,  1.08s/it]"
     ]
    },
    {
     "name": "stdout",
     "output_type": "stream",
     "text": [
      "Downloaded and saved: https://terradedireitos.org.br/uploads/arquivos/PROTOCOLO_CONSULTA_WEB-min.pdf -> corpus_out_nb/data/raw/b063cdbd449fb6cdef67.pdf -> pdf\n"
     ]
    },
    {
     "name": "stderr",
     "output_type": "stream",
     "text": [
      "2025-10-30 15:39:50,242 WARNING: Retrying (Retry(total=0, connect=None, read=None, redirect=None, status=None)) after connection broken by 'SSLError(SSLCertVerificationError(1, '[SSL: CERTIFICATE_VERIFY_FAILED] certificate verify failed: unable to get local issuer certificate (_ssl.c:1007)'))': /wp-content/uploads/manual-atuacao-policia-pessoas-deficiencia.pdf\n",
      "Baixando Brutos:  15%|█▌        | 28/184 [00:29<02:23,  1.09it/s]2025-10-30 15:39:50,885 WARNING: Retrying (Retry(total=0, connect=None, read=None, redirect=None, status=None)) after connection broken by 'NewConnectionError('<urllib3.connection.HTTPSConnection object at 0x7f9cd6b6b640>: Failed to establish a new connection: [Errno -2] Name or service not known')': /manual-atendimento-abordagem-populacao-lgbti.pdf\n",
      "Baixando Brutos:  16%|█▌        | 29/184 [00:29<02:05,  1.24it/s]2025-10-30 15:39:51,283 WARNING: Retrying (Retry(total=2, connect=None, read=None, redirect=None, status=None)) after connection broken by 'NewConnectionError('<urllib3.connection.HTTPSConnection object at 0x7f9cd6ac0940>: Failed to establish a new connection: [Errno -2] Name or service not known')': /migracoes/arquivos/guia-atendimento-migrantes-refugiados.pdf\n",
      "Baixando Brutos:  16%|█▋        | 30/184 [00:30<01:56,  1.32it/s]"
     ]
    },
    {
     "name": "stdout",
     "output_type": "stream",
     "text": [
      "Downloaded and saved: https://www.pcdf.df.gov.br/images/Folders/cartilhaLGBTQI_FINAL_lancamento.pdf -> corpus_out_nb/data/raw/99d93e6f72a55d068e43.pdf -> pdf\n"
     ]
    },
    {
     "name": "stderr",
     "output_type": "stream",
     "text": [
      "Baixando Brutos:  17%|█▋        | 31/184 [00:31<02:01,  1.26it/s]"
     ]
    },
    {
     "name": "stdout",
     "output_type": "stream",
     "text": [
      "Downloaded and saved: https://www.cnj.jus.br/wp-content/uploads/2021/06/manual_resolucao348_LGBTI.pdf -> corpus_out_nb/data/raw/33ae05366615c6ff60c7.pdf -> pdf\n"
     ]
    },
    {
     "name": "stderr",
     "output_type": "stream",
     "text": [
      "2025-10-30 15:39:52,888 WARNING: Retrying (Retry(total=1, connect=None, read=None, redirect=None, status=None)) after connection broken by 'NewConnectionError('<urllib3.connection.HTTPSConnection object at 0x7f9cd6b6bd60>: Failed to establish a new connection: [Errno -2] Name or service not known')': /migracoes/arquivos/guia-atendimento-migrantes-refugiados.pdf\n",
      "Baixando Brutos:  17%|█▋        | 32/184 [00:32<02:01,  1.25it/s]"
     ]
    },
    {
     "name": "stdout",
     "output_type": "stream",
     "text": [
      "Downloaded and saved: https://www.gov.br/pf/pt-br/assuntos/seguranca-privada/legislacao-normas-e-orientacoes/cartilha-seguranca-sem-preconceito/cartilha-seguranca-sem-preconceito.pdf -> corpus_out_nb/data/raw/bf4e87175249a7689e57.pdf -> pdf\n"
     ]
    },
    {
     "name": "stderr",
     "output_type": "stream",
     "text": [
      "Baixando Brutos:  18%|█▊        | 33/184 [00:33<02:11,  1.15it/s]"
     ]
    },
    {
     "name": "stdout",
     "output_type": "stream",
     "text": [
      "Downloaded and saved: https://www.cnj.jus.br/wp-content/uploads/2025/06/relatoria-audiencia-publica-quilombolas-1jun25.pdf -> corpus_out_nb/data/raw/3b08dd64c64f5d74a23f.pdf -> pdf\n"
     ]
    },
    {
     "name": "stderr",
     "output_type": "stream",
     "text": [
      "Baixando Brutos:  18%|█▊        | 34/184 [00:34<02:18,  1.09it/s]2025-10-30 15:39:56,093 WARNING: Retrying (Retry(total=0, connect=None, read=None, redirect=None, status=None)) after connection broken by 'NewConnectionError('<urllib3.connection.HTTPSConnection object at 0x7f9cd6ac0a30>: Failed to establish a new connection: [Errno -2] Name or service not known')': /migracoes/arquivos/guia-atendimento-migrantes-refugiados.pdf\n",
      "Baixando Brutos:  20%|█▉        | 36/184 [00:35<02:02,  1.21it/s]"
     ]
    },
    {
     "name": "stdout",
     "output_type": "stream",
     "text": [
      "Downloaded and saved: https://www.hrw.org/pt/news/2023/12/15/un-experts-call-brazil-end-brutal-police-violence -> corpus_out_nb/data/raw/aaa6d1492af0ec687685.html -> html\n"
     ]
    },
    {
     "name": "stderr",
     "output_type": "stream",
     "text": [
      "Baixando Brutos:  20%|██        | 37/184 [00:37<02:29,  1.02s/it]"
     ]
    },
    {
     "name": "stdout",
     "output_type": "stream",
     "text": [
      "Downloaded and saved: https://www.dn.pt/internacional/desigualdade-racismo-e-violencia-afetam-direitos-humanos-no-brasil -> corpus_out_nb/data/raw/908e3286d7ce01cfff1a.html -> html\n"
     ]
    },
    {
     "name": "stderr",
     "output_type": "stream",
     "text": [
      "Baixando Brutos:  21%|██        | 38/184 [00:37<02:02,  1.19it/s]"
     ]
    },
    {
     "name": "stdout",
     "output_type": "stream",
     "text": [
      "Downloaded and saved: https://www5.bahiana.edu.br/index.php/psicologia/article/view/5809/5337 -> corpus_out_nb/data/raw/0120247f8e5c526a7cf3.html -> html\n"
     ]
    },
    {
     "name": "stderr",
     "output_type": "stream",
     "text": [
      "Baixando Brutos:  21%|██        | 39/184 [00:38<02:03,  1.18it/s]"
     ]
    },
    {
     "name": "stdout",
     "output_type": "stream",
     "text": [
      "Downloaded and saved: https://www.tjdft.jus.br/informacoes/cidadania/nucleo-judiciario-da-mulher/documentos-e-links/arquivos/livro-njm_pmdf.pdf -> corpus_out_nb/data/raw/937f032850e506a7a6b7.pdf -> pdf\n"
     ]
    },
    {
     "name": "stderr",
     "output_type": "stream",
     "text": [
      "Baixando Brutos:  22%|██▏       | 40/184 [00:39<02:01,  1.18it/s]"
     ]
    },
    {
     "name": "stdout",
     "output_type": "stream",
     "text": [
      "Downloaded and saved: https://www.cnj.jus.br/wp-content/uploads/2025/08/concurso-nacional-djadh-v2.pdf -> corpus_out_nb/data/raw/ba192250deb3e66bd6e3.pdf -> pdf\n"
     ]
    },
    {
     "name": "stderr",
     "output_type": "stream",
     "text": [
      "Baixando Brutos:  22%|██▏       | 41/184 [00:42<03:22,  1.42s/it]2025-10-30 15:40:03,224 WARNING: Retrying (Retry(total=2, connect=None, read=None, redirect=None, status=None)) after connection broken by 'SSLError(SSLCertVerificationError(1, '[SSL: CERTIFICATE_VERIFY_FAILED] certificate verify failed: unable to get local issuer certificate (_ssl.c:1007)'))': /bitstream/riufcg/20299/1/RAMON%20PEREIRA%20BATISTA.pdf\n"
     ]
    },
    {
     "name": "stdout",
     "output_type": "stream",
     "text": [
      "Downloaded and saved: https://www.saude.sp.gov.br/resources/instituto-de-saude/homepage/pdfs/temassaudecoletiva25.pdf -> corpus_out_nb/data/raw/086d5480b0bb2df265d9.pdf -> pdf\n"
     ]
    },
    {
     "name": "stderr",
     "output_type": "stream",
     "text": [
      "Baixando Brutos:  23%|██▎       | 42/184 [00:42<02:55,  1.24s/it]"
     ]
    },
    {
     "name": "stdout",
     "output_type": "stream",
     "text": [
      "Downloaded and saved: https://www.fadileste.edu.br/revistavox/index.php/revistavox/article/download/105/91/125 -> corpus_out_nb/data/raw/33df62dd62407e958ff8.pdf -> pdf\n"
     ]
    },
    {
     "name": "stderr",
     "output_type": "stream",
     "text": [
      "Baixando Brutos:  23%|██▎       | 43/184 [00:43<02:24,  1.02s/it]"
     ]
    },
    {
     "name": "stdout",
     "output_type": "stream",
     "text": [
      "Downloaded and saved: https://www.sgb.gov.br/documents/d/guest/cartilha_pgf_assedio_sexual_agosto_lilas_revisado_final-pdf -> corpus_out_nb/data/raw/f9dcce05ac7e2a7b754b.pdf -> pdf\n"
     ]
    },
    {
     "name": "stderr",
     "output_type": "stream",
     "text": [
      "2025-10-30 15:40:05,048 WARNING: Retrying (Retry(total=1, connect=None, read=None, redirect=None, status=None)) after connection broken by 'SSLError(SSLCertVerificationError(1, '[SSL: CERTIFICATE_VERIFY_FAILED] certificate verify failed: unable to get local issuer certificate (_ssl.c:1007)'))': /bitstream/riufcg/20299/1/RAMON%20PEREIRA%20BATISTA.pdf\n",
      "Baixando Brutos:  24%|██▍       | 44/184 [00:44<02:05,  1.12it/s]"
     ]
    },
    {
     "name": "stdout",
     "output_type": "stream",
     "text": [
      "Downloaded and saved: https://www.tjdft.jus.br/informacoes/cidadania/nucleo-judiciario-da-mulher/documentos-e-links/normas-tecnicas/nota-tecnica-14-2024-medidas-protetivas-de-urgencia-sua-autonomia-e-prazo-de-duracao.pdf -> corpus_out_nb/data/raw/342c59451685a5eeb0fa.pdf -> pdf\n"
     ]
    },
    {
     "name": "stderr",
     "output_type": "stream",
     "text": [
      "2025-10-30 15:40:06,208 WARNING: Retrying (Retry(total=2, connect=None, read=None, redirect=None, status=None)) after connection broken by 'SSLError(SSLCertVerificationError(1, '[SSL: CERTIFICATE_VERIFY_FAILED] certificate verify failed: unable to get local issuer certificate (_ssl.c:1007)'))': /wp-content/uploads/2025/06/PPMDF-IN-EM-10-2020-ANEXO-UNICO.pdf\n",
      "2025-10-30 15:40:07,107 WARNING: Retrying (Retry(total=2, connect=None, read=None, redirect=None, status=None)) after connection broken by 'SSLError(SSLCertVerificationError(1, '[SSL: CERTIFICATE_VERIFY_FAILED] certificate verify failed: unable to get local issuer certificate (_ssl.c:1007)'))': /pdfs/Bioetica_violenciacontraamulher.pdf.pdf\n",
      "2025-10-30 15:40:07,927 WARNING: Retrying (Retry(total=1, connect=None, read=None, redirect=None, status=None)) after connection broken by 'SSLError(SSLCertVerificationError(1, '[SSL: CERTIFICATE_VERIFY_FAILED] certificate verify failed: unable to get local issuer certificate (_ssl.c:1007)'))': /wp-content/uploads/2025/06/PPMDF-IN-EM-10-2020-ANEXO-UNICO.pdf\n",
      "Baixando Brutos:  24%|██▍       | 45/184 [00:47<03:44,  1.61s/it]2025-10-30 15:40:08,493 WARNING: Retrying (Retry(total=0, connect=None, read=None, redirect=None, status=None)) after connection broken by 'SSLError(SSLCertVerificationError(1, '[SSL: CERTIFICATE_VERIFY_FAILED] certificate verify failed: unable to get local issuer certificate (_ssl.c:1007)'))': /bitstream/riufcg/20299/1/RAMON%20PEREIRA%20BATISTA.pdf\n"
     ]
    },
    {
     "name": "stdout",
     "output_type": "stream",
     "text": [
      "Downloaded and saved: https://www.cnj.jus.br/wp-content/uploads/2025/06/manual-tratamento-indigenas-adolescentes-jovens.pdf -> corpus_out_nb/data/raw/967b28ea6b87b31598dc.pdf -> pdf\n"
     ]
    },
    {
     "name": "stderr",
     "output_type": "stream",
     "text": [
      "Baixando Brutos:  25%|██▌       | 46/184 [00:47<02:48,  1.22s/it]2025-10-30 15:40:08,879 WARNING: Retrying (Retry(total=1, connect=None, read=None, redirect=None, status=None)) after connection broken by 'SSLError(SSLCertVerificationError(1, '[SSL: CERTIFICATE_VERIFY_FAILED] certificate verify failed: unable to get local issuer certificate (_ssl.c:1007)'))': /pdfs/Bioetica_violenciacontraamulher.pdf.pdf\n",
      "Baixando Brutos:  26%|██▌       | 47/184 [00:48<02:49,  1.24s/it]"
     ]
    },
    {
     "name": "stdout",
     "output_type": "stream",
     "text": [
      "Downloaded and saved: https://pc.es.gov.br/Media/PCES/Legislação/PORTARIA%20Nº%2080-S%20-%20DEPPI.pdf -> corpus_out_nb/data/raw/5ab735bf8f1634c78d0d.pdf -> pdf\n"
     ]
    },
    {
     "name": "stderr",
     "output_type": "stream",
     "text": [
      "Baixando Brutos:  26%|██▌       | 48/184 [00:49<02:11,  1.03it/s]"
     ]
    },
    {
     "name": "stdout",
     "output_type": "stream",
     "text": [
      "Downloaded and saved: https://www.cnj.jus.br/wp-content/uploads/2024/11/protocolo-para-julgamento-com-perspectiva-racial-2.pdf -> corpus_out_nb/data/raw/10598a25a3d17742a2b2.pdf -> pdf\n"
     ]
    },
    {
     "name": "stderr",
     "output_type": "stream",
     "text": [
      "2025-10-30 15:40:11,245 WARNING: Retrying (Retry(total=0, connect=None, read=None, redirect=None, status=None)) after connection broken by 'SSLError(SSLCertVerificationError(1, '[SSL: CERTIFICATE_VERIFY_FAILED] certificate verify failed: unable to get local issuer certificate (_ssl.c:1007)'))': /wp-content/uploads/2025/06/PPMDF-IN-EM-10-2020-ANEXO-UNICO.pdf\n",
      "Baixando Brutos:  27%|██▋       | 49/184 [00:50<02:10,  1.03it/s]"
     ]
    },
    {
     "name": "stdout",
     "output_type": "stream",
     "text": [
      "Downloaded and saved: https://www.cnj.jus.br/wp-content/uploads/2024/06/protocolo-tecnico-interacao-pessoa-tea.pdf -> corpus_out_nb/data/raw/9a19b5bacd59418ea6eb.pdf -> pdf\n"
     ]
    },
    {
     "name": "stderr",
     "output_type": "stream",
     "text": [
      "2025-10-30 15:40:12,181 WARNING: Retrying (Retry(total=0, connect=None, read=None, redirect=None, status=None)) after connection broken by 'SSLError(SSLCertVerificationError(1, '[SSL: CERTIFICATE_VERIFY_FAILED] certificate verify failed: unable to get local issuer certificate (_ssl.c:1007)'))': /pdfs/Bioetica_violenciacontraamulher.pdf.pdf\n",
      "Baixando Brutos:  28%|██▊       | 51/184 [00:51<01:39,  1.34it/s]"
     ]
    },
    {
     "name": "stdout",
     "output_type": "stream",
     "text": [
      "Downloaded and saved: https://www.planalto.gov.br/ccivil_03/_ato2023-2026/2023/lei/L14532.htm -> corpus_out_nb/data/raw/9e94d69d18eb7285064c.html -> html\n"
     ]
    },
    {
     "name": "stderr",
     "output_type": "stream",
     "text": [
      "Baixando Brutos:  29%|██▉       | 54/184 [00:53<01:47,  1.21it/s]"
     ]
    },
    {
     "name": "stdout",
     "output_type": "stream",
     "text": [
      "Downloaded and saved: https://congesp.rn.gov.br/anais/v-16/politicas-publicas-e-desenvolvimento-sustentavel/as-inovacoes-alteracoes-na-lei-maria-da-penha-o-atendimento-policial-militar-nos-casos-de-violencia-domestica.pdf -> corpus_out_nb/data/raw/b4d82409a0cda3940a1f.pdf -> pdf\n"
     ]
    },
    {
     "name": "stderr",
     "output_type": "stream",
     "text": [
      "Baixando Brutos:  30%|██▉       | 55/184 [00:54<01:38,  1.31it/s]"
     ]
    },
    {
     "name": "stdout",
     "output_type": "stream",
     "text": [
      "Downloaded and saved: https://www.gov.br/mj/pt-br/centrais-de-conteudo/publicacoes/categorias-de-publicacoes/manuais/diretrizes_nacionais_para_o_atendimento_policial_militar_as_mulheres_21_junho_2022-versao-final-1.pdf -> corpus_out_nb/data/raw/b87c735cde6a8ee0868c.pdf -> pdf\n"
     ]
    },
    {
     "name": "stderr",
     "output_type": "stream",
     "text": [
      "Baixando Brutos:  30%|███       | 56/184 [00:55<01:39,  1.29it/s]"
     ]
    },
    {
     "name": "stdout",
     "output_type": "stream",
     "text": [
      "Downloaded and saved: https://site.mppr.mp.br/sites/hotsites/arquivos_restritos/files/migrados/File/publi/caopca/lei_13431_comentada_jun2018.pdf -> corpus_out_nb/data/raw/c314da411f30a4f00eb7.pdf -> pdf\n"
     ]
    },
    {
     "name": "stderr",
     "output_type": "stream",
     "text": [
      "2025-10-30 15:40:17,582 WARNING: Certificate did not match expected hostname: www.saude.curitiba.pr.gov.br. Certificate: {'subject': ((('countryName', 'BR'),), (('stateOrProvinceName', 'PARANA'),), (('localityName', 'CURITIBA'),), (('organizationName', 'INSTITUTO CURITIBA DE INFORMATICA'),), (('commonName', '*.curitiba.pr.gov.br'),)), 'issuer': ((('countryName', 'BE'),), (('organizationName', 'GlobalSign nv-sa'),), (('commonName', 'GlobalSign RSA OV SSL CA 2018'),)), 'version': 3, 'serialNumber': '637D418B61E9F8D0F1A0BF68', 'notBefore': 'Sep 19 13:13:32 2025 GMT', 'notAfter': 'Oct 21 13:13:31 2026 GMT', 'subjectAltName': (('DNS', '*.curitiba.pr.gov.br'), ('DNS', 'curitiba.pr.gov.br')), 'OCSP': ('http://ocsp.globalsign.com/gsrsaovsslca2018',), 'caIssuers': ('http://secure.globalsign.com/cacert/gsrsaovsslca2018.crt',)}\n",
      "2025-10-30 15:40:17,582 WARNING: Retrying (Retry(total=2, connect=None, read=None, redirect=None, status=None)) after connection broken by 'SSLError(CertificateError(\"hostname 'www.saude.curitiba.pr.gov.br' doesn't match either of '*.curitiba.pr.gov.br', 'curitiba.pr.gov.br'\"))': /images/programas/arquivos/rede_protecao/Protocolo%20da%20Rede%20de%20Aten%C3%A7%C3%A3o%20e%20Prote%C3%A7%C3%A3o%20Idoso.pdf\n",
      "2025-10-30 15:40:18,092 WARNING: Certificate did not match expected hostname: www.saude.curitiba.pr.gov.br. Certificate: {'subject': ((('countryName', 'BR'),), (('stateOrProvinceName', 'PARANA'),), (('localityName', 'CURITIBA'),), (('organizationName', 'INSTITUTO CURITIBA DE INFORMATICA'),), (('commonName', '*.curitiba.pr.gov.br'),)), 'issuer': ((('countryName', 'BE'),), (('organizationName', 'GlobalSign nv-sa'),), (('commonName', 'GlobalSign RSA OV SSL CA 2018'),)), 'version': 3, 'serialNumber': '637D418B61E9F8D0F1A0BF68', 'notBefore': 'Sep 19 13:13:32 2025 GMT', 'notAfter': 'Oct 21 13:13:31 2026 GMT', 'subjectAltName': (('DNS', '*.curitiba.pr.gov.br'), ('DNS', 'curitiba.pr.gov.br')), 'OCSP': ('http://ocsp.globalsign.com/gsrsaovsslca2018',), 'caIssuers': ('http://secure.globalsign.com/cacert/gsrsaovsslca2018.crt',)}\n",
      "Baixando Brutos:  31%|███       | 57/184 [00:57<02:21,  1.11s/it]"
     ]
    },
    {
     "name": "stdout",
     "output_type": "stream",
     "text": [
      "Downloaded and saved: https://www.cnj.jus.br/wp-content/uploads/2025/10/policia-judicial-antirracista-protocolo.pdf -> corpus_out_nb/data/raw/47e5ee5c3db2491ce6b6.pdf -> pdf\n"
     ]
    },
    {
     "name": "stderr",
     "output_type": "stream",
     "text": [
      "2025-10-30 15:40:19,187 WARNING: Retrying (Retry(total=2, connect=None, read=None, redirect=None, status=None)) after connection broken by 'SSLError(SSLCertVerificationError(1, '[SSL: CERTIFICATE_VERIFY_FAILED] certificate verify failed: unable to get local issuer certificate (_ssl.c:1007)'))': /arquivo/cms/publicacaoPublicacaoTematica/anexo/CadernosSTFIgualdadeRacial_web.pdf\n",
      "2025-10-30 15:40:19,695 WARNING: Retrying (Retry(total=1, connect=None, read=None, redirect=None, status=None)) after connection broken by 'SSLError(CertificateError(\"hostname 'www.saude.curitiba.pr.gov.br' doesn't match either of '*.curitiba.pr.gov.br', 'curitiba.pr.gov.br'\"))': /images/programas/arquivos/rede_protecao/Protocolo%20da%20Rede%20de%20Aten%C3%A7%C3%A3o%20e%20Prote%C3%A7%C3%A3o%20Idoso.pdf\n",
      "2025-10-30 15:40:20,167 WARNING: Certificate did not match expected hostname: www.saude.curitiba.pr.gov.br. Certificate: {'subject': ((('countryName', 'BR'),), (('stateOrProvinceName', 'PARANA'),), (('localityName', 'CURITIBA'),), (('organizationName', 'INSTITUTO CURITIBA DE INFORMATICA'),), (('commonName', '*.curitiba.pr.gov.br'),)), 'issuer': ((('countryName', 'BE'),), (('organizationName', 'GlobalSign nv-sa'),), (('commonName', 'GlobalSign RSA OV SSL CA 2018'),)), 'version': 3, 'serialNumber': '637D418B61E9F8D0F1A0BF68', 'notBefore': 'Sep 19 13:13:32 2025 GMT', 'notAfter': 'Oct 21 13:13:31 2026 GMT', 'subjectAltName': (('DNS', '*.curitiba.pr.gov.br'), ('DNS', 'curitiba.pr.gov.br')), 'OCSP': ('http://ocsp.globalsign.com/gsrsaovsslca2018',), 'caIssuers': ('http://secure.globalsign.com/cacert/gsrsaovsslca2018.crt',)}\n",
      "2025-10-30 15:40:20,861 WARNING: Retrying (Retry(total=1, connect=None, read=None, redirect=None, status=None)) after connection broken by 'SSLError(SSLCertVerificationError(1, '[SSL: CERTIFICATE_VERIFY_FAILED] certificate verify failed: unable to get local issuer certificate (_ssl.c:1007)'))': /arquivo/cms/publicacaoPublicacaoTematica/anexo/CadernosSTFIgualdadeRacial_web.pdf\n",
      "Baixando Brutos:  32%|███▏      | 58/184 [01:00<03:28,  1.66s/it]"
     ]
    },
    {
     "name": "stdout",
     "output_type": "stream",
     "text": [
      "Downloaded and saved: https://www.mprs.mp.br/media/areas/evcm/arquivos/padronizacao_nacional_das_deams.pdf -> corpus_out_nb/data/raw/aa74f030d3b232340bce.pdf -> pdf\n"
     ]
    },
    {
     "name": "stderr",
     "output_type": "stream",
     "text": [
      "2025-10-30 15:40:23,369 WARNING: Retrying (Retry(total=0, connect=None, read=None, redirect=None, status=None)) after connection broken by 'SSLError(CertificateError(\"hostname 'www.saude.curitiba.pr.gov.br' doesn't match either of '*.curitiba.pr.gov.br', 'curitiba.pr.gov.br'\"))': /images/programas/arquivos/rede_protecao/Protocolo%20da%20Rede%20de%20Aten%C3%A7%C3%A3o%20e%20Prote%C3%A7%C3%A3o%20Idoso.pdf\n",
      "2025-10-30 15:40:23,878 WARNING: Certificate did not match expected hostname: www.saude.curitiba.pr.gov.br. Certificate: {'subject': ((('countryName', 'BR'),), (('stateOrProvinceName', 'PARANA'),), (('localityName', 'CURITIBA'),), (('organizationName', 'INSTITUTO CURITIBA DE INFORMATICA'),), (('commonName', '*.curitiba.pr.gov.br'),)), 'issuer': ((('countryName', 'BE'),), (('organizationName', 'GlobalSign nv-sa'),), (('commonName', 'GlobalSign RSA OV SSL CA 2018'),)), 'version': 3, 'serialNumber': '637D418B61E9F8D0F1A0BF68', 'notBefore': 'Sep 19 13:13:32 2025 GMT', 'notAfter': 'Oct 21 13:13:31 2026 GMT', 'subjectAltName': (('DNS', '*.curitiba.pr.gov.br'), ('DNS', 'curitiba.pr.gov.br')), 'OCSP': ('http://ocsp.globalsign.com/gsrsaovsslca2018',), 'caIssuers': ('http://secure.globalsign.com/cacert/gsrsaovsslca2018.crt',)}\n",
      "Baixando Brutos:  32%|███▏      | 59/184 [01:02<03:55,  1.89s/it]2025-10-30 15:40:24,140 WARNING: Retrying (Retry(total=0, connect=None, read=None, redirect=None, status=None)) after connection broken by 'SSLError(SSLCertVerificationError(1, '[SSL: CERTIFICATE_VERIFY_FAILED] certificate verify failed: unable to get local issuer certificate (_ssl.c:1007)'))': /arquivo/cms/publicacaoPublicacaoTematica/anexo/CadernosSTFIgualdadeRacial_web.pdf\n",
      "Baixando Brutos:  34%|███▎      | 62/184 [01:04<02:04,  1.02s/it]"
     ]
    },
    {
     "name": "stdout",
     "output_type": "stream",
     "text": [
      "Downloaded and saved: http://www.onumulheres.org.br/wp-content/uploads/2023/05/guia_para_acolhimento_de_migrantes_refugiadas_refugiados.pdf -> corpus_out_nb/data/raw/8b10a6d0fc22bc11f467.pdf -> pdf\n"
     ]
    },
    {
     "name": "stderr",
     "output_type": "stream",
     "text": [
      "Baixando Brutos:  34%|███▍      | 63/184 [01:04<01:35,  1.27it/s]"
     ]
    },
    {
     "name": "stdout",
     "output_type": "stream",
     "text": [
      "Downloaded and saved: https://www.icmpd.org/file/download/54254/file/MT%2520Brasil%2520-%2520Guia%2520de%2520Atendimento.pdf -> corpus_out_nb/data/raw/bf2806b354e7e5239303.pdf -> pdf\n"
     ]
    },
    {
     "name": "stderr",
     "output_type": "stream",
     "text": [
      "2025-10-30 15:40:26,351 WARNING: Retrying (Retry(total=2, connect=None, read=None, redirect=None, status=None)) after connection broken by 'SSLError(SSLCertVerificationError(1, '[SSL: CERTIFICATE_VERIFY_FAILED] certificate verify failed: unable to get local issuer certificate (_ssl.c:1007)'))': /sites/default/files/biblioteca/direitos-humanos/enfrentamento-ao-racismo/recomendacoes/polcivilnotainstrucao.pdf\n",
      "Baixando Brutos:  35%|███▍      | 64/184 [01:06<01:59,  1.00it/s]"
     ]
    },
    {
     "name": "stdout",
     "output_type": "stream",
     "text": [
      "Downloaded and saved: https://app1.sefaz.mt.gov.br/Sistema/legislacao/LeiComplEstadual.nsf/9733a1d3f5bb1ab384256710004d4754/d0fcc124ca2a33e18425775700750cc3?OpenDocument -> corpus_out_nb/data/raw/5aa5b8f047fbce2ec6e0.html -> html\n"
     ]
    },
    {
     "name": "stderr",
     "output_type": "stream",
     "text": [
      "Baixando Brutos:  35%|███▌      | 65/184 [01:06<01:44,  1.14it/s]"
     ]
    },
    {
     "name": "stdout",
     "output_type": "stream",
     "text": [
      "Downloaded and saved: https://central.to.gov.br/download/398869 -> corpus_out_nb/data/raw/78e818edaf8f0c48e543.pdf -> pdf\n"
     ]
    },
    {
     "name": "stderr",
     "output_type": "stream",
     "text": [
      "2025-10-30 15:40:28,161 WARNING: Retrying (Retry(total=1, connect=None, read=None, redirect=None, status=None)) after connection broken by 'SSLError(SSLCertVerificationError(1, '[SSL: CERTIFICATE_VERIFY_FAILED] certificate verify failed: unable to get local issuer certificate (_ssl.c:1007)'))': /sites/default/files/biblioteca/direitos-humanos/enfrentamento-ao-racismo/recomendacoes/polcivilnotainstrucao.pdf\n",
      "Baixando Brutos:  36%|███▌      | 66/184 [01:08<02:03,  1.05s/it]"
     ]
    },
    {
     "name": "stdout",
     "output_type": "stream",
     "text": [
      "Downloaded and saved: https://www.gov.br/mdh/pt-br/assuntos/noticias/2022/junho/guia-direitos-humanos-e-os-sistemas-de-seguranca-publica-socioeducativo-e-penitenciario-portugues.pdf -> corpus_out_nb/data/raw/779df5279dc6ee5c95eb.pdf -> pdf\n"
     ]
    },
    {
     "name": "stderr",
     "output_type": "stream",
     "text": [
      "Baixando Brutos:  36%|███▋      | 67/184 [01:08<01:40,  1.17it/s]"
     ]
    },
    {
     "name": "stdout",
     "output_type": "stream",
     "text": [
      "Downloaded and saved: https://bibliotecadigital.mdh.gov.br/jspui/bitstream/192/8729/1/comissao_direitos_humanos.pdf -> corpus_out_nb/data/raw/4ccfe7447a0ecc97b822.pdf -> pdf\n"
     ]
    },
    {
     "name": "stderr",
     "output_type": "stream",
     "text": [
      "Baixando Brutos:  37%|███▋      | 68/184 [01:09<01:37,  1.19it/s]"
     ]
    },
    {
     "name": "stdout",
     "output_type": "stream",
     "text": [
      "Downloaded and saved: https://camposnovos.sc.gov.br/uploads/sites/405/2021/12/867067_Plano_Decenal_Campos_Novos__2017___2026_1.pdf -> corpus_out_nb/data/raw/bd44eabde9a8ebc71927.pdf -> pdf\n"
     ]
    },
    {
     "name": "stderr",
     "output_type": "stream",
     "text": [
      "2025-10-30 15:40:31,196 WARNING: Retrying (Retry(total=2, connect=None, read=None, redirect=None, status=None)) after connection broken by 'SSLError(SSLCertVerificationError(1, '[SSL: CERTIFICATE_VERIFY_FAILED] certificate verify failed: unable to get local issuer certificate (_ssl.c:1007)'))': /arquivo/cms/bibliotecaConsultaProdutoBibliotecaPastaFachin/anexo/ADI6138.pdf\n",
      "2025-10-30 15:40:31,557 WARNING: Retrying (Retry(total=0, connect=None, read=None, redirect=None, status=None)) after connection broken by 'SSLError(SSLCertVerificationError(1, '[SSL: CERTIFICATE_VERIFY_FAILED] certificate verify failed: unable to get local issuer certificate (_ssl.c:1007)'))': /sites/default/files/biblioteca/direitos-humanos/enfrentamento-ao-racismo/recomendacoes/polcivilnotainstrucao.pdf\n",
      "Baixando Brutos:  38%|███▊      | 70/184 [01:11<01:45,  1.08it/s]"
     ]
    },
    {
     "name": "stdout",
     "output_type": "stream",
     "text": [
      "Downloaded and saved: https://www.tjdft.jus.br/informacoes/cidadania/nucleo-judiciario-da-mulher/documentos-e-links/arquivos/livro-contribuicoes-para-a-formacao-de-profissionais-da-seguranca-publica-do-enfrentamento-da-vdfcm_2-edicao.pdf -> corpus_out_nb/data/raw/cf5a4d2f0c4b497bccef.pdf -> pdf\n"
     ]
    },
    {
     "name": "stderr",
     "output_type": "stream",
     "text": [
      "2025-10-30 15:40:32,894 WARNING: Retrying (Retry(total=1, connect=None, read=None, redirect=None, status=None)) after connection broken by 'SSLError(SSLCertVerificationError(1, '[SSL: CERTIFICATE_VERIFY_FAILED] certificate verify failed: unable to get local issuer certificate (_ssl.c:1007)'))': /arquivo/cms/bibliotecaConsultaProdutoBibliotecaPastaFachin/anexo/ADI6138.pdf\n",
      "Baixando Brutos:  39%|███▊      | 71/184 [01:12<01:37,  1.16it/s]"
     ]
    },
    {
     "name": "stdout",
     "output_type": "stream",
     "text": [
      "Downloaded and saved: https://www.gov.br/mj/pt-br/assuntos/sua-seguranca/seguranca-publica/operacoes-integradas/cgoi/vips/relatorio-geral-da-operacao-virtude-2024.pdf -> corpus_out_nb/data/raw/6d474b60b1b0f0f8b38a.pdf -> pdf\n"
     ]
    },
    {
     "name": "stderr",
     "output_type": "stream",
     "text": [
      "Baixando Brutos:  39%|███▉      | 72/184 [01:13<01:45,  1.06it/s]"
     ]
    },
    {
     "name": "stdout",
     "output_type": "stream",
     "text": [
      "Downloaded and saved: https://noticias.stf.jus.br/postsnoticias/supremo-define-que-abordagem-policial-motivada-por-cor-da-pele-e-ilegal/ -> corpus_out_nb/data/raw/2c27e352d208facc3f73.html -> html\n"
     ]
    },
    {
     "name": "stderr",
     "output_type": "stream",
     "text": [
      "Baixando Brutos:  40%|███▉      | 73/184 [01:14<01:41,  1.09it/s]"
     ]
    },
    {
     "name": "stdout",
     "output_type": "stream",
     "text": [
      "Downloaded and saved: https://www.stj.jus.br/sites/portalp/Paginas/Comunicacao/Noticias/20042022-Revista-pessoal-baseada-em-%E2%80%9Catitude-suspeita%E2%80%9D-e-ilegal--decide-Sexta-Turma.aspx -> corpus_out_nb/data/raw/850592bdef1d78159e3e.html -> html\n"
     ]
    },
    {
     "name": "stderr",
     "output_type": "stream",
     "text": [
      "2025-10-30 15:40:36,190 WARNING: Retrying (Retry(total=0, connect=None, read=None, redirect=None, status=None)) after connection broken by 'SSLError(SSLCertVerificationError(1, '[SSL: CERTIFICATE_VERIFY_FAILED] certificate verify failed: unable to get local issuer certificate (_ssl.c:1007)'))': /arquivo/cms/bibliotecaConsultaProdutoBibliotecaPastaFachin/anexo/ADI6138.pdf\n",
      "Baixando Brutos:  41%|████      | 75/184 [01:15<01:19,  1.37it/s]"
     ]
    },
    {
     "name": "stdout",
     "output_type": "stream",
     "text": [
      "Downloaded and saved: https://www.cnj.jus.br/wp-content/uploads/2023/05/cadernos-stf-igualdade-racial-web-23-05-03.pdf -> corpus_out_nb/data/raw/412decf462a61a0ae266.pdf -> pdf\n"
     ]
    },
    {
     "name": "stderr",
     "output_type": "stream",
     "text": [
      "Baixando Brutos:  41%|████▏     | 76/184 [01:16<01:12,  1.49it/s]"
     ]
    },
    {
     "name": "stdout",
     "output_type": "stream",
     "text": [
      "Downloaded and saved: https://www.tjdft.jus.br/institucional/imprensa/campanhas-e-produtos/direito-facil/edicao-semanal/escuta-especializada-x-depoimento-especial -> corpus_out_nb/data/raw/0ab2fb8ae83cb95428a5.html -> html\n"
     ]
    },
    {
     "name": "stderr",
     "output_type": "stream",
     "text": [
      "Baixando Brutos:  42%|████▏     | 77/184 [01:17<01:28,  1.21it/s]"
     ]
    },
    {
     "name": "stdout",
     "output_type": "stream",
     "text": [
      "Downloaded and saved: https://esaj.tjsp.jus.br/gcn-frontend-vue/legislacao/find/202735 -> corpus_out_nb/data/raw/ca8d4e6585cbf4cb85d1.html -> html\n"
     ]
    },
    {
     "name": "stderr",
     "output_type": "stream",
     "text": [
      "Baixando Brutos:  42%|████▏     | 78/184 [01:20<02:44,  1.55s/it]"
     ]
    },
    {
     "name": "stdout",
     "output_type": "stream",
     "text": [
      "Downloaded and saved: https://www.policiacomunitaria.ms.gov.br/wp-content/uploads/2014/12/LIVRO_MULTIPLICADOR_POLICIA_COMUNITRIA.pdf -> corpus_out_nb/data/raw/96a7bda743463b3b9fe8.pdf -> pdf\n"
     ]
    },
    {
     "name": "stderr",
     "output_type": "stream",
     "text": [
      "Baixando Brutos:  43%|████▎     | 79/184 [01:21<02:20,  1.34s/it]"
     ]
    },
    {
     "name": "stdout",
     "output_type": "stream",
     "text": [
      "Downloaded and saved: https://www.prefeitura.sp.gov.br/cidade/secretarias/upload/direitos_humanos/POP_RUA/CPDPopRua%20-%20Revisado.pdf -> corpus_out_nb/data/raw/8d39667c29961e4436cc.pdf -> pdf\n"
     ]
    },
    {
     "name": "stderr",
     "output_type": "stream",
     "text": [
      "Baixando Brutos:  43%|████▎     | 80/184 [01:22<02:08,  1.24s/it]"
     ]
    },
    {
     "name": "stdout",
     "output_type": "stream",
     "text": [
      "Downloaded and saved: https://www.mogidascruzes.sp.gov.br/public/site/doc/20250110102418678111729daab.pdf -> corpus_out_nb/data/raw/d2d4e7beaaa5bb76a5ac.pdf -> pdf\n"
     ]
    },
    {
     "name": "stderr",
     "output_type": "stream",
     "text": [
      "Baixando Brutos:  44%|████▍     | 81/184 [01:22<01:41,  1.01it/s]"
     ]
    },
    {
     "name": "stdout",
     "output_type": "stream",
     "text": [
      "Downloaded and saved: https://docs.bvsalud.org/biblioref/2023/06/1436927/issue-d03a857a23b5285736c4d55e0bb067c8.pdf -> corpus_out_nb/data/raw/2afa1ab1673fccc0bbf0.pdf -> pdf\n"
     ]
    },
    {
     "name": "stderr",
     "output_type": "stream",
     "text": [
      "Baixando Brutos:  45%|████▍     | 82/184 [01:23<01:30,  1.12it/s]"
     ]
    },
    {
     "name": "stdout",
     "output_type": "stream",
     "text": [
      "Downloaded and saved: https://www.tjsp.jus.br/download/EPM/Publicacoes/CadernosJuridicos/cj_n63_05_o%20magistrado%20garantidor%20no%20depoimento%20especial_2p.pdf?d=638070538284252291 -> corpus_out_nb/data/raw/e622eacb90d6c43d4907.pdf -> pdf\n"
     ]
    },
    {
     "name": "stderr",
     "output_type": "stream",
     "text": [
      "Baixando Brutos:  45%|████▌     | 83/184 [01:24<01:24,  1.19it/s]"
     ]
    },
    {
     "name": "stdout",
     "output_type": "stream",
     "text": [
      "Downloaded and saved: https://www.tjdft.jus.br/informacoes/infancia-e-juventude/publicacoes-textos-e-artigos/publicacoes/publicacoes-1/ProtocoloAtenIntegralCriancasAdolecentesVitimasViol.pdf -> corpus_out_nb/data/raw/915b3ec7f0ec2e048a49.pdf -> pdf\n"
     ]
    },
    {
     "name": "stderr",
     "output_type": "stream",
     "text": [
      "Baixando Brutos:  46%|████▌     | 84/184 [01:26<02:08,  1.29s/it]"
     ]
    },
    {
     "name": "stdout",
     "output_type": "stream",
     "text": [
      "Downloaded and saved: https://forumseguranca.org.br/wp-content/uploads/2020/10/manual-formacao-de-policiais-para-o-enfrentamento-da-violencia-de-genero.pdf -> corpus_out_nb/data/raw/169111217e2454ca8bc2.pdf -> pdf\n"
     ]
    },
    {
     "name": "stderr",
     "output_type": "stream",
     "text": [
      "Baixando Brutos:  46%|████▌     | 85/184 [01:28<02:23,  1.45s/it]"
     ]
    },
    {
     "name": "stdout",
     "output_type": "stream",
     "text": [
      "Downloaded and saved: https://www.icrc.org/pt/document/cicv-promove-capacitacao-de-forcas-policiais-e-de-seguranca-em-direitos-humanos -> corpus_out_nb/data/raw/c08630700edc592d61fe.html -> html\n"
     ]
    },
    {
     "name": "stderr",
     "output_type": "stream",
     "text": [
      "Baixando Brutos:  47%|████▋     | 86/184 [01:28<01:51,  1.14s/it]"
     ]
    },
    {
     "name": "stdout",
     "output_type": "stream",
     "text": [
      "Downloaded and saved: https://www.gov.br/igualdaderacial/pt-br/assuntos/plano-juventude-negra-viva/2024_Plano_Juventude_Negra_Viva_.pdf -> corpus_out_nb/data/raw/f5ef19a711823c7a4fae.pdf -> pdf\n"
     ]
    },
    {
     "name": "stderr",
     "output_type": "stream",
     "text": [
      "Baixando Brutos:  47%|████▋     | 87/184 [01:29<01:38,  1.01s/it]"
     ]
    },
    {
     "name": "stdout",
     "output_type": "stream",
     "text": [
      "Downloaded and saved: https://www.pcdf.df.gov.br/images/DIVICOM/Portaria_86.pdf -> corpus_out_nb/data/raw/2302c6438e2e3139d456.pdf -> pdf\n"
     ]
    },
    {
     "name": "stderr",
     "output_type": "stream",
     "text": [
      "Baixando Brutos:  48%|████▊     | 88/184 [01:30<01:40,  1.05s/it]"
     ]
    },
    {
     "name": "stdout",
     "output_type": "stream",
     "text": [
      "Downloaded and saved: https://www.pcdf.df.gov.br/images/conteudo/institucional/TCU/RELATORIO_DE_GESTAO_2021_V5.pdf -> corpus_out_nb/data/raw/7fd153494eb18315d4ce.pdf -> pdf\n"
     ]
    },
    {
     "name": "stderr",
     "output_type": "stream",
     "text": [
      "Baixando Brutos:  48%|████▊     | 89/184 [01:31<01:31,  1.04it/s]"
     ]
    },
    {
     "name": "stdout",
     "output_type": "stream",
     "text": [
      "Downloaded and saved: https://www.pc.ms.gov.br/wp-content/uploads/2024/03/DO11430_01_03_2024-pag-16-17.pdf -> corpus_out_nb/data/raw/fc52f8cf7762818bbd9a.pdf -> pdf\n"
     ]
    },
    {
     "name": "stderr",
     "output_type": "stream",
     "text": [
      "Baixando Brutos:  49%|████▉     | 90/184 [01:31<01:19,  1.19it/s]"
     ]
    },
    {
     "name": "stdout",
     "output_type": "stream",
     "text": [
      "Downloaded and saved: https://policiacivil.se.gov.br/wp-content/uploads/2025/01/Portaria-no-009_2025-Cria-o-Nucleo-de-Atendimento-a-Mulher-e-Demais-Grupos-Vulneraveis-NAGV-de-Itabaianinha-SE.pdf -> corpus_out_nb/data/raw/b53f8bd249a35e4f6110.pdf -> pdf\n"
     ]
    },
    {
     "name": "stderr",
     "output_type": "stream",
     "text": [
      "Baixando Brutos:  49%|████▉     | 91/184 [01:32<01:05,  1.42it/s]"
     ]
    },
    {
     "name": "stdout",
     "output_type": "stream",
     "text": [
      "Downloaded and saved: https://atos.cnj.jus.br/atos/detalhar/3399 -> corpus_out_nb/data/raw/f2dfb9cb6648811b64e5.html -> html\n"
     ]
    },
    {
     "name": "stderr",
     "output_type": "stream",
     "text": [
      "Baixando Brutos:  50%|█████     | 92/184 [01:33<01:23,  1.10it/s]"
     ]
    },
    {
     "name": "stdout",
     "output_type": "stream",
     "text": [
      "Downloaded and saved: https://leidominutoseguinte.mpf.mp.br/ -> corpus_out_nb/data/raw/a6f1d9654bbb41ebdd5f.html -> html\n"
     ]
    },
    {
     "name": "stderr",
     "output_type": "stream",
     "text": [
      "Baixando Brutos:  51%|█████     | 93/184 [01:34<01:10,  1.30it/s]"
     ]
    },
    {
     "name": "stdout",
     "output_type": "stream",
     "text": [
      "Downloaded and saved: https://www.tjdft.jus.br/institucional/imprensa/noticias/arquivos/ggcorp_manual_dos_fluxos-final_isbn_09maio2025-1.pdf -> corpus_out_nb/data/raw/86f27c8076f7f614b1f3.pdf -> pdf\n"
     ]
    },
    {
     "name": "stderr",
     "output_type": "stream",
     "text": [
      "Baixando Brutos:  51%|█████     | 94/184 [01:35<01:25,  1.05it/s]"
     ]
    },
    {
     "name": "stdout",
     "output_type": "stream",
     "text": [
      "Downloaded and saved: https://mpmt.mp.br/site/storage/webdisco/arquivos/PROTOCOLO%20PARA%20INVESTIGAC%CC%A7A%CC%83O%20DE%20CRIMES%20DE%20VIOLE%CC%82NCIA%20DOME%CC%81STICA%20E%20FAMILIAR%20CONTRA%20A%20MULHER%2C%20COM%20PERSPECTIVA%20DE%20GE%CC%82NERO%20(1)_compressed.pdf -> corpus_out_nb/data/raw/6b849444cb08ce619201.pdf -> pdf\n"
     ]
    },
    {
     "name": "stderr",
     "output_type": "stream",
     "text": [
      "Baixando Brutos:  52%|█████▏    | 95/184 [01:37<02:05,  1.41s/it]"
     ]
    },
    {
     "name": "stdout",
     "output_type": "stream",
     "text": [
      "Downloaded and saved: https://goias.gov.br/policiacientifica/wp-content/uploads/sites/63/2017/06/Manual.pop_.iml_.pdf -> corpus_out_nb/data/raw/2b329c210891ecb2f794.pdf -> pdf\n",
      "Downloaded and saved: https://ead.pm.ma.gov.br/pluginfile.php/11527/mod_resource/content/6/14_MANOEL%20MARIA%20PIMENTA%20SILVA%20FILHO%20e%20DIEGO%20FELIPE%20BATISTA%20RIBEIRO.pdf -> corpus_out_nb/data/raw/576f9903021e7468fe30.pdf -> pdf\n"
     ]
    },
    {
     "name": "stderr",
     "output_type": "stream",
     "text": [
      "Baixando Brutos:  53%|█████▎    | 97/184 [01:38<01:25,  1.01it/s]"
     ]
    },
    {
     "name": "stdout",
     "output_type": "stream",
     "text": [
      "Downloaded and saved: https://periodicos.pf.gov.br/index.php/CadANP/article/view/6/19 -> corpus_out_nb/data/raw/7857559958be104a093d.pdf -> pdf\n"
     ]
    },
    {
     "name": "stderr",
     "output_type": "stream",
     "text": [
      "Baixando Brutos:  53%|█████▎    | 98/184 [01:40<01:34,  1.10s/it]"
     ]
    },
    {
     "name": "stdout",
     "output_type": "stream",
     "text": [
      "Downloaded and saved: https://www.mprj.mp.br/documents/20184/4655937/resolucao_2651.pdf -> corpus_out_nb/data/raw/1613e32eb1457da1521a.pdf -> pdf\n"
     ]
    },
    {
     "name": "stderr",
     "output_type": "stream",
     "text": [
      "Baixando Brutos:  54%|█████▍    | 100/184 [01:41<01:10,  1.19it/s]"
     ]
    },
    {
     "name": "stdout",
     "output_type": "stream",
     "text": [
      "Downloaded and saved: https://www.ba.gov.br/policiacivil/sites/site-pcba/files/2024-08/Manual%20de%20Procedimentos%20de%20Pol%C3%ADcia%20Judici%C3%A1ria%20do%20Estado%20da%20Bahia%20-%202%C2%AA%20Edi%C3%A7%C3%A3o.pdf -> corpus_out_nb/data/raw/0960a172def7d021c40b.pdf -> pdf\n",
      "Downloaded and saved: https://www.cnj.jus.br/wp-content/uploads/2011/02/b3f18ac2f32a661bd02ca82c1afbe3bb.pdf -> corpus_out_nb/data/raw/56edc9dc6672a608855e.pdf -> pdf\n"
     ]
    },
    {
     "name": "stderr",
     "output_type": "stream",
     "text": [
      "Baixando Brutos:  55%|█████▌    | 102/184 [01:44<01:21,  1.01it/s]"
     ]
    },
    {
     "name": "stdout",
     "output_type": "stream",
     "text": [
      "Downloaded and saved: https://www.mpce.mp.br/wp-content/uploads/2015/12/EUROSOCIAL-DIRETRIZES-NACIONAIS-DE-INVESTIGACAO-CRIMINAL.pdf -> corpus_out_nb/data/raw/de851ee1b807f6831f12.pdf -> pdf\n",
      "Downloaded and saved: https://www.unodc.org/documents/justice-and-prison-reform/Manual_Uso_da_Forca_online2.pdf -> corpus_out_nb/data/raw/872302bc7743f89fad68.pdf -> pdf\n"
     ]
    },
    {
     "name": "stderr",
     "output_type": "stream",
     "text": [
      "Baixando Brutos:  56%|█████▌    | 103/184 [01:44<01:00,  1.34it/s]"
     ]
    },
    {
     "name": "stdout",
     "output_type": "stream",
     "text": [
      "Downloaded and saved: https://prefeitura.sp.gov.br/cidade/secretarias/upload/direitos_humanos/Manual%20de%20Atendimendo%20-%20Abrigo.pdf -> corpus_out_nb/data/raw/2b3914a4a8308c1590c0.pdf -> pdf\n"
     ]
    },
    {
     "name": "stderr",
     "output_type": "stream",
     "text": [
      "2025-10-30 15:41:06,269 WARNING: Retrying (Retry(total=2, connect=None, read=None, redirect=None, status=None)) after connection broken by 'ConnectTimeoutError(<urllib3.connection.HTTPSConnection object at 0x7f9cd6b6ad70>, 'Connection to www.camara.gov.br timed out. (connect timeout=15)')': /proposicoesWeb/fichadetramitacao?idProposicao=2227601\n",
      "Baixando Brutos:  57%|█████▋    | 105/184 [01:45<00:48,  1.62it/s]"
     ]
    },
    {
     "name": "stdout",
     "output_type": "stream",
     "text": [
      "Downloaded and saved: https://jundiai.sp.gov.br/saude/wp-content/uploads/sites/17/2024/01/rede-de-aten__o-integral-_-mulher-em-situa__o-de-viol_ncia.pdf -> corpus_out_nb/data/raw/ae21c883d2701b7a3a90.pdf -> pdf\n"
     ]
    },
    {
     "name": "stderr",
     "output_type": "stream",
     "text": [
      "2025-10-30 15:41:07,173 WARNING: Retrying (Retry(total=2, connect=None, read=None, redirect=None, status=None)) after connection broken by 'SSLError(SSLCertVerificationError(1, '[SSL: CERTIFICATE_VERIFY_FAILED] certificate verify failed: unable to get local issuer certificate (_ssl.c:1007)'))': /arquivo/cms/noticiaNoticiaStf/anexo/HC208.240IlicitudedabuscapessoalPerfilamentoracialinformac807o771esa768sociedadeFSP.pdf\n",
      "Baixando Brutos:  58%|█████▊    | 106/184 [01:46<00:56,  1.39it/s]"
     ]
    },
    {
     "name": "stdout",
     "output_type": "stream",
     "text": [
      "Downloaded and saved: https://memoriadigital.mpmg.mp.br/wp-content/uploads/tainacan-items/4829/139679/34_Guia-basico-para-atuacao-ministerial-em-contexto-de-violencia-domestica.pdf -> corpus_out_nb/data/raw/8d27e90d2f22d8def68c.pdf -> pdf\n"
     ]
    },
    {
     "name": "stderr",
     "output_type": "stream",
     "text": [
      "2025-10-30 15:41:09,020 WARNING: Retrying (Retry(total=1, connect=None, read=None, redirect=None, status=None)) after connection broken by 'SSLError(SSLCertVerificationError(1, '[SSL: CERTIFICATE_VERIFY_FAILED] certificate verify failed: unable to get local issuer certificate (_ssl.c:1007)'))': /arquivo/cms/noticiaNoticiaStf/anexo/HC208.240IlicitudedabuscapessoalPerfilamentoracialinformac807o771esa768sociedadeFSP.pdf\n",
      "Baixando Brutos:  58%|█████▊    | 107/184 [01:48<01:22,  1.07s/it]"
     ]
    },
    {
     "name": "stdout",
     "output_type": "stream",
     "text": [
      "Downloaded and saved: https://sigconteudo.ufsb.edu.br/arquivos/20221651709b6e72594998850bbdc232/Dissertao_Mestrado-_Berg_PPGER_UFSB__1_-_Finalizado_com_ata.pdf -> corpus_out_nb/data/raw/2a90d1e8741d8bdb15c1.pdf -> pdf\n"
     ]
    },
    {
     "name": "stderr",
     "output_type": "stream",
     "text": [
      "Baixando Brutos:  59%|█████▊    | 108/184 [01:49<01:26,  1.14s/it]"
     ]
    },
    {
     "name": "stdout",
     "output_type": "stream",
     "text": [
      "Downloaded and saved: https://documents1.worldbank.org/curated/en/099031125103037423/pdf/P181402-a0c1ec80-38c6-45b3-aa5d-8759fb47d837.pdf -> corpus_out_nb/data/raw/a606f8ef68e5dcc4ad48.pdf -> pdf\n"
     ]
    },
    {
     "name": "stderr",
     "output_type": "stream",
     "text": [
      "Baixando Brutos:  59%|█████▉    | 109/184 [01:50<01:13,  1.03it/s]"
     ]
    },
    {
     "name": "stdout",
     "output_type": "stream",
     "text": [
      "Downloaded and saved: https://www.stj.jus.br/internet_docs/biblioteca/clippinglegislacao/Res_598_2024_CNJ.pdf -> corpus_out_nb/data/raw/85ff92249ceeeb09e5b2.pdf -> pdf\n"
     ]
    },
    {
     "name": "stderr",
     "output_type": "stream",
     "text": [
      "Baixando Brutos:  60%|█████▉    | 110/184 [01:50<00:57,  1.29it/s]"
     ]
    },
    {
     "name": "stdout",
     "output_type": "stream",
     "text": [
      "Downloaded and saved: https://saber.uniftc.edu.br/bitstreams/faf58238-34ec-43b9-a7e2-a2ff4b47ac2d/download -> corpus_out_nb/data/raw/816b12210b559ca8be36.pdf -> pdf\n"
     ]
    },
    {
     "name": "stderr",
     "output_type": "stream",
     "text": [
      "2025-10-30 15:41:12,293 WARNING: Retrying (Retry(total=0, connect=None, read=None, redirect=None, status=None)) after connection broken by 'SSLError(SSLCertVerificationError(1, '[SSL: CERTIFICATE_VERIFY_FAILED] certificate verify failed: unable to get local issuer certificate (_ssl.c:1007)'))': /arquivo/cms/noticiaNoticiaStf/anexo/HC208.240IlicitudedabuscapessoalPerfilamentoracialinformac807o771esa768sociedadeFSP.pdf\n",
      "Baixando Brutos:  61%|██████    | 112/184 [01:52<00:55,  1.29it/s]"
     ]
    },
    {
     "name": "stdout",
     "output_type": "stream",
     "text": [
      "Downloaded and saved: https://repositorio.idp.edu.br/bitstream/123456789/5437/1/Monografia_ANY%20CAROLINE%20MACHADO%20DE%20OLIVEIRA_Curso%20de%20Direito.pdf -> corpus_out_nb/data/raw/1216f06315956f9bc161.pdf -> pdf\n"
     ]
    },
    {
     "name": "stderr",
     "output_type": "stream",
     "text": [
      "Baixando Brutos:  61%|██████▏   | 113/184 [01:52<00:51,  1.39it/s]"
     ]
    },
    {
     "name": "stdout",
     "output_type": "stream",
     "text": [
      "Downloaded and saved: https://revistas.editora.ufcg.edu.br/index.php/jmsi/article/download/841/751/5017 -> corpus_out_nb/data/raw/41cc40bc57bcb10d6844.pdf -> pdf\n"
     ]
    },
    {
     "name": "stderr",
     "output_type": "stream",
     "text": [
      "Baixando Brutos:  62%|██████▏   | 114/184 [01:53<00:57,  1.21it/s]"
     ]
    },
    {
     "name": "stdout",
     "output_type": "stream",
     "text": [
      "Downloaded and saved: https://periodicos.puc-campinas.edu.br/estpsi/article/download/8874/6283/34547 -> corpus_out_nb/data/raw/f7cf6759b92ad5ae865e.pdf -> pdf\n"
     ]
    },
    {
     "name": "stderr",
     "output_type": "stream",
     "text": [
      "Baixando Brutos:  62%|██████▎   | 115/184 [01:54<00:52,  1.31it/s]"
     ]
    },
    {
     "name": "stdout",
     "output_type": "stream",
     "text": [
      "Downloaded and saved: https://pdfs.semanticscholar.org/1133/ed54c0efd80c8692393d8850adae6f04ecd6.pdf -> corpus_out_nb/data/raw/1a76f9ab9b759b138096.pdf -> pdf\n"
     ]
    },
    {
     "name": "stderr",
     "output_type": "stream",
     "text": [
      "Baixando Brutos:  63%|██████▎   | 116/184 [01:55<00:54,  1.24it/s]"
     ]
    },
    {
     "name": "stdout",
     "output_type": "stream",
     "text": [
      "Downloaded and saved: https://portaldeimigracao.mj.gov.br/images/portarias/PORTARIA_N%C2%BA_87_DE_23_DE_MARC%CC%A7O_DE_2020.pdf -> corpus_out_nb/data/raw/b9d56e37a6ee4846bc0c.pdf -> pdf\n"
     ]
    },
    {
     "name": "stderr",
     "output_type": "stream",
     "text": [
      "Baixando Brutos:  64%|██████▎   | 117/184 [01:56<01:05,  1.03it/s]"
     ]
    },
    {
     "name": "stdout",
     "output_type": "stream",
     "text": [
      "Downloaded and saved: https://cimi.org.br/wp-content/uploads/2021/11/relatorio-violencia-povos-indigenas-2020-cimi.pdf -> corpus_out_nb/data/raw/89ce3cbefbcab7abf551.pdf -> pdf\n"
     ]
    },
    {
     "name": "stderr",
     "output_type": "stream",
     "text": [
      "Baixando Brutos:  64%|██████▍   | 118/184 [01:57<01:01,  1.07it/s]"
     ]
    },
    {
     "name": "stdout",
     "output_type": "stream",
     "text": [
      "Downloaded and saved: https://www.oas.org/pt/cidh/decisiones/corte/2022/br_12.569_pt.pdf -> corpus_out_nb/data/raw/ea9612a59b0755248953.pdf -> pdf\n"
     ]
    },
    {
     "name": "stderr",
     "output_type": "stream",
     "text": [
      "Baixando Brutos:  65%|██████▍   | 119/184 [01:58<01:05,  1.00s/it]"
     ]
    },
    {
     "name": "stdout",
     "output_type": "stream",
     "text": [
      "Downloaded and saved: https://files.ufgd.edu.br/arquivos/arquivos/78/MESTRADO-FRONTEIRAS/DISSERTA%C3%87%C3%83O%20JULIA%20STEFANELLO%20PIRES.pdf -> corpus_out_nb/data/raw/d6953df0fb5bff99bfbd.pdf -> pdf\n"
     ]
    },
    {
     "name": "stderr",
     "output_type": "stream",
     "text": [
      "Baixando Brutos:  65%|██████▌   | 120/184 [01:59<00:57,  1.10it/s]"
     ]
    },
    {
     "name": "stdout",
     "output_type": "stream",
     "text": [
      "Downloaded and saved: https://apublica.org/2015/10/especial-quilombolas/ -> corpus_out_nb/data/raw/d2d25a11c3c36fa6a8d7.html -> html\n"
     ]
    },
    {
     "name": "stderr",
     "output_type": "stream",
     "text": [
      "Baixando Brutos:  66%|██████▌   | 121/184 [02:02<01:30,  1.44s/it]"
     ]
    },
    {
     "name": "stdout",
     "output_type": "stream",
     "text": [
      "Downloaded and saved: https://brasil.un.org/pt-br/72443-brasil-viol%C3%AAncia-pobreza-e-criminaliza%C3%A7%C3%A3o-ainda-t%C3%AAm-cor-diz-relatora-da-onu-sobre-minorias -> corpus_out_nb/data/raw/f2fbcfe8425ff94b6cbb.html -> html\n"
     ]
    },
    {
     "name": "stderr",
     "output_type": "stream",
     "text": [
      "Baixando Brutos:  66%|██████▋   | 122/184 [02:02<01:19,  1.28s/it]"
     ]
    },
    {
     "name": "stdout",
     "output_type": "stream",
     "text": [
      "Downloaded and saved: https://tede.ufam.edu.br/bitstream/tede/4239/2/Tese%20-%20M%C3%A1rcia%20Maria%20de%20Oliveira.pdf -> corpus_out_nb/data/raw/161656b2d9c4dac8bffd.pdf -> pdf\n"
     ]
    },
    {
     "name": "stderr",
     "output_type": "stream",
     "text": [
      "Baixando Brutos:  67%|██████▋   | 123/184 [02:03<01:07,  1.11s/it]"
     ]
    },
    {
     "name": "stdout",
     "output_type": "stream",
     "text": [
      "Downloaded and saved: https://legis.policiacivil.pe.gov.br/b/api/files/373aad864b283ab54dd8ceef0126c426.pdf -> corpus_out_nb/data/raw/67f2a930c557b12a0d07.pdf -> pdf\n"
     ]
    },
    {
     "name": "stderr",
     "output_type": "stream",
     "text": [
      "Baixando Brutos:  67%|██████▋   | 124/184 [02:04<01:05,  1.09s/it]"
     ]
    },
    {
     "name": "stdout",
     "output_type": "stream",
     "text": [
      "Downloaded and saved: https://www.sds.pe.gov.br/images/media/1648750180_063%20BGSDS%20DE%2031MAR2022.pdf -> corpus_out_nb/data/raw/bbb367a3496f8c39f941.pdf -> pdf\n"
     ]
    },
    {
     "name": "stderr",
     "output_type": "stream",
     "text": [
      "Baixando Brutos:  68%|██████▊   | 126/184 [02:07<01:10,  1.22s/it]"
     ]
    },
    {
     "name": "stdout",
     "output_type": "stream",
     "text": [
      "Downloaded and saved: https://dspace.unila.edu.br/bitstreams/d7a5979a-f459-4b00-b064-4aa6bbd721d9/download -> corpus_out_nb/data/raw/9d31780372862382100d.pdf -> pdf\n"
     ]
    },
    {
     "name": "stderr",
     "output_type": "stream",
     "text": [
      "Baixando Brutos:  69%|██████▉   | 127/184 [02:07<00:56,  1.01it/s]"
     ]
    },
    {
     "name": "stdout",
     "output_type": "stream",
     "text": [
      "Downloaded and saved: https://repositorio.uergs.edu.br/xmlui/bitstream/handle/123456789/2119/_tcc_angaelica___04.08_atualizado-convertido.pdf?sequence=-1&isAllowed=y -> corpus_out_nb/data/raw/03d0873279a807d357eb.pdf -> pdf\n"
     ]
    },
    {
     "name": "stderr",
     "output_type": "stream",
     "text": [
      "Baixando Brutos:  70%|██████▉   | 128/184 [02:10<01:20,  1.43s/it]"
     ]
    },
    {
     "name": "stdout",
     "output_type": "stream",
     "text": [
      "Downloaded and saved: https://www.usf.edu.br/galeria/getImage/427/4525999146570085.pdf -> corpus_out_nb/data/raw/f4189afbb3376df517da.pdf -> pdf\n"
     ]
    },
    {
     "name": "stderr",
     "output_type": "stream",
     "text": [
      "Baixando Brutos:  70%|███████   | 129/184 [02:10<01:06,  1.21s/it]"
     ]
    },
    {
     "name": "stdout",
     "output_type": "stream",
     "text": [
      "Downloaded and saved: https://rdu.unicesumar.edu.br/bitstream/123456789/9951/1/Athely%2C%20Sidney%20Rodrigues%20Rezemde%20de%20Barros.pdf -> corpus_out_nb/data/raw/ba0c0d4506c9afc08308.pdf -> pdf\n"
     ]
    },
    {
     "name": "stderr",
     "output_type": "stream",
     "text": [
      "Baixando Brutos:  71%|███████   | 130/184 [02:11<00:59,  1.11s/it]"
     ]
    },
    {
     "name": "stdout",
     "output_type": "stream",
     "text": [
      "Downloaded and saved: https://ead.pm.ma.gov.br/pluginfile.php/11941/mod_resource/content/0/32.%20NEIDIANE%20SANTOS%20DE%20LIMA.pdf -> corpus_out_nb/data/raw/9e29369ad878c44e4a5b.pdf -> pdf\n",
      "Downloaded and saved: https://www.gov.br/mdh/pt-br/assuntos/noticias/2025/agosto/governo-federal-lanca-protocolo-inedito-para-acolhimento-de-mulheres-lesbicas-bissexuais-travestis-transexuais-e-intersexo-em-situacao-de-violencia/POPRededeAtendimentoMulheremSituaodeViolnciaMulheresLBTI.pdf -> corpus_out_nb/data/raw/e905b65687be041ec4e6.pdf -> pdf\n"
     ]
    },
    {
     "name": "stderr",
     "output_type": "stream",
     "text": [
      "Baixando Brutos:  72%|███████▏  | 132/184 [02:14<01:06,  1.27s/it]"
     ]
    },
    {
     "name": "stdout",
     "output_type": "stream",
     "text": [
      "Downloaded and saved: https://tede.ufam.edu.br/bitstream/tede/5256/5/Disserta%C3%A7%C3%A3o_RaphaelLeone_PPGS.pdf -> corpus_out_nb/data/raw/a8e341e8210a43df4a1b.pdf -> pdf\n"
     ]
    },
    {
     "name": "stderr",
     "output_type": "stream",
     "text": [
      "2025-10-30 15:41:36,181 WARNING: Retrying (Retry(total=2, connect=None, read=None, redirect=None, status=None)) after connection broken by 'ReadTimeoutError(\"HTTPSConnectionPool(host='www.gov.br', port=443): Read timed out. (read timeout=15)\")': /mj/pt-br/assuntos/sua-protecao/trafico-de-pessoas/publicacoes/guias-e-manuais/act-1-6_guia_atendimento_migrante_refugiado_vitimadetp_final.pdf\n",
      "Baixando Brutos:  73%|███████▎  | 134/184 [02:15<00:48,  1.03it/s]"
     ]
    },
    {
     "name": "stdout",
     "output_type": "stream",
     "text": [
      "Downloaded and saved: https://static.tre-al.jus.br/portal/o-tre/governanca-corporativa/comissoes-e-comites/TRE-AL-protocolo-atendimento-humanizado-popula%C3%A7%C3%A3o-trans-travesti.pdf -> corpus_out_nb/data/raw/899db7ff179538b6df90.pdf -> pdf\n"
     ]
    },
    {
     "name": "stderr",
     "output_type": "stream",
     "text": [
      "Baixando Brutos:  73%|███████▎  | 135/184 [02:16<00:44,  1.09it/s]"
     ]
    },
    {
     "name": "stdout",
     "output_type": "stream",
     "text": [
      "Downloaded and saved: https://repositorio.idp.edu.br/bitstream/123456789/4906/1/Disserta%C3%A7%C3%A3o_LUCAS%20BARROS%20BAPTISTA%20DE%20TOLEDO%20RIBEIRO_Mestrado_2023.pdf -> corpus_out_nb/data/raw/6d99b44eee5c37f9938b.pdf -> pdf\n"
     ]
    },
    {
     "name": "stderr",
     "output_type": "stream",
     "text": [
      "Baixando Brutos:  74%|███████▍  | 136/184 [02:16<00:37,  1.27it/s]"
     ]
    },
    {
     "name": "stdout",
     "output_type": "stream",
     "text": [
      "Downloaded and saved: https://seer.uniacademia.edu.br/index.php/cadernospsicologia/article/viewFile/4036/2994 -> corpus_out_nb/data/raw/22fa7e7122662e61f221.html -> html\n"
     ]
    },
    {
     "name": "stderr",
     "output_type": "stream",
     "text": [
      "2025-10-30 15:41:38,600 WARNING: Retrying (Retry(total=2, connect=None, read=None, redirect=None, status=None)) after connection broken by 'SSLError(SSLCertVerificationError(1, '[SSL: CERTIFICATE_VERIFY_FAILED] certificate verify failed: unable to get local issuer certificate (_ssl.c:1007)'))': /publicacoes-inesp/downloads/pelo-id/1145\n",
      "Baixando Brutos:  74%|███████▍  | 137/184 [02:19<00:54,  1.15s/it]"
     ]
    },
    {
     "name": "stdout",
     "output_type": "stream",
     "text": [
      "Downloaded and saved: http://www.rio.rj.gov.br/dlstatic/10112/9492017/4238301/GuiadaDiversidade.pdf -> corpus_out_nb/data/raw/7b65905b2cfb5757ba4e.pdf -> pdf\n"
     ]
    },
    {
     "name": "stderr",
     "output_type": "stream",
     "text": [
      "Baixando Brutos:  75%|███████▌  | 138/184 [02:19<00:42,  1.07it/s]2025-10-30 15:41:40,537 WARNING: Retrying (Retry(total=1, connect=None, read=None, redirect=None, status=None)) after connection broken by 'SSLError(SSLCertVerificationError(1, '[SSL: CERTIFICATE_VERIFY_FAILED] certificate verify failed: unable to get local issuer certificate (_ssl.c:1007)'))': /publicacoes-inesp/downloads/pelo-id/1145\n"
     ]
    },
    {
     "name": "stdout",
     "output_type": "stream",
     "text": [
      "Downloaded and saved: https://www.gov.br/mdh/pt-br/navegue-por-temas/migrantes-refugiados-e-apatridas/publicacoes/guiadeorientacaoemdireitoshumanosparapessoasdoafeganistaonobrasil_fevmarco2024.pdf -> corpus_out_nb/data/raw/235e68e8d333a12be512.pdf -> pdf\n"
     ]
    },
    {
     "name": "stderr",
     "output_type": "stream",
     "text": [
      "Baixando Brutos:  76%|███████▌  | 139/184 [02:20<00:43,  1.04it/s]"
     ]
    },
    {
     "name": "stdout",
     "output_type": "stream",
     "text": [
      "Downloaded and saved: https://www.riopreto.sp.gov.br/wp-content/uploads/arquivosPortalGOV/mulher/protocolo-regional/protocolo-municipal-atendimento-mulher.pdf -> corpus_out_nb/data/raw/81f770acb101b29b9174.pdf -> pdf\n"
     ]
    },
    {
     "name": "stderr",
     "output_type": "stream",
     "text": [
      "Baixando Brutos:  76%|███████▌  | 140/184 [02:20<00:34,  1.29it/s]"
     ]
    },
    {
     "name": "stdout",
     "output_type": "stream",
     "text": [
      "Downloaded and saved: https://www2.camarapiracicaba.sp.gov.br/documentos/Cartilha_Mulheres_GT_Rede_de_Atendimento_e_Protecao_as_Mulheres_de_Piracicaba_Outubro_2020.pdf -> corpus_out_nb/data/raw/df62ca03e9b269a4c7e0.pdf -> pdf\n"
     ]
    },
    {
     "name": "stderr",
     "output_type": "stream",
     "text": [
      "Baixando Brutos:  77%|███████▋  | 141/184 [02:22<00:39,  1.10it/s]"
     ]
    },
    {
     "name": "stdout",
     "output_type": "stream",
     "text": [
      "Downloaded and saved: https://www.spdo.ms.gov.br/diariodoe/Index/Download/DO11954_01_10_2025 -> corpus_out_nb/data/raw/34b27c2d8b100d29048d.html -> html\n"
     ]
    },
    {
     "name": "stderr",
     "output_type": "stream",
     "text": [
      "2025-10-30 15:41:43,944 WARNING: Retrying (Retry(total=0, connect=None, read=None, redirect=None, status=None)) after connection broken by 'SSLError(SSLCertVerificationError(1, '[SSL: CERTIFICATE_VERIFY_FAILED] certificate verify failed: unable to get local issuer certificate (_ssl.c:1007)'))': /publicacoes-inesp/downloads/pelo-id/1145\n",
      "Baixando Brutos:  77%|███████▋  | 142/184 [02:23<00:40,  1.04it/s]"
     ]
    },
    {
     "name": "stdout",
     "output_type": "stream",
     "text": [
      "Downloaded and saved: https://www.cnmp.mp.br/portal/images/Publicacoes/documentos/2024/atividade_policial-v4-10out.pdf -> corpus_out_nb/data/raw/c6545be93b57af1ce2ad.pdf -> pdf\n"
     ]
    },
    {
     "name": "stderr",
     "output_type": "stream",
     "text": [
      "2025-10-30 15:41:45,498 WARNING: Retrying (Retry(total=2, connect=None, read=None, redirect=None, status=None)) after connection broken by 'SSLError(SSLCertVerificationError(1, '[SSL: CERTIFICATE_VERIFY_FAILED] certificate verify failed: unable to get local issuer certificate (_ssl.c:1007)'))': /wp-content/uploads/sites/9/2022/02/Cuidado_a_Saude_da_Crianca_Adolescente_e_Mulher_em_Situacao_de_Violencia.pdf\n",
      "2025-10-30 15:41:46,270 WARNING: Retrying (Retry(total=2, connect=None, read=None, redirect=None, status=None)) after connection broken by 'SSLError(SSLCertVerificationError(1, '[SSL: CERTIFICATE_VERIFY_FAILED] certificate verify failed: unable to get local issuer certificate (_ssl.c:1007)'))': /sinj/Diario/43d90ae5-db71-359f-bd43-30065b760d72/DODF%20082%2006-05-2025%20INTEGRA.pdf\n",
      "Baixando Brutos:  78%|███████▊  | 144/184 [02:26<00:50,  1.25s/it]2025-10-30 15:41:47,381 WARNING: Retrying (Retry(total=1, connect=None, read=None, redirect=None, status=None)) after connection broken by 'SSLError(SSLCertVerificationError(1, '[SSL: CERTIFICATE_VERIFY_FAILED] certificate verify failed: unable to get local issuer certificate (_ssl.c:1007)'))': /wp-content/uploads/sites/9/2022/02/Cuidado_a_Saude_da_Crianca_Adolescente_e_Mulher_em_Situacao_de_Violencia.pdf\n"
     ]
    },
    {
     "name": "stdout",
     "output_type": "stream",
     "text": [
      "Downloaded and saved: https://www.mpac.mp.br/wp-content/uploads/Resolu%C3%A7%C3%A3o-n%C2%BA-005-2014-09.2014.000412-8-Redefine-Atribui%C3%A7%C3%B5es-Promotoria-Controle-Externo.pdf -> corpus_out_nb/data/raw/a6afc5bc6132128b5d87.pdf -> pdf\n"
     ]
    },
    {
     "name": "stderr",
     "output_type": "stream",
     "text": [
      "2025-10-30 15:41:47,981 WARNING: Retrying (Retry(total=1, connect=None, read=None, redirect=None, status=None)) after connection broken by 'SSLError(SSLCertVerificationError(1, '[SSL: CERTIFICATE_VERIFY_FAILED] certificate verify failed: unable to get local issuer certificate (_ssl.c:1007)'))': /sinj/Diario/43d90ae5-db71-359f-bd43-30065b760d72/DODF%20082%2006-05-2025%20INTEGRA.pdf\n",
      "Baixando Brutos:  79%|███████▉  | 145/184 [02:27<00:53,  1.36s/it]"
     ]
    },
    {
     "name": "stdout",
     "output_type": "stream",
     "text": [
      "Downloaded and saved: https://www.rj.gov.br/saude/sites/default/files/arquivo_pagina_basica/Relatorio-Detalhado-do-Quadrimestre-Anterior_-_3%C2%BA-RDQA-2024.pdf -> corpus_out_nb/data/raw/35c4a78b7ee0ddb851f4.pdf -> pdf\n"
     ]
    },
    {
     "name": "stderr",
     "output_type": "stream",
     "text": [
      "Baixando Brutos:  79%|███████▉  | 146/184 [02:28<00:42,  1.13s/it]"
     ]
    },
    {
     "name": "stdout",
     "output_type": "stream",
     "text": [
      "Downloaded and saved: https://www.mpmt.mp.br/portalcao/news/1162/146419/cnmp-lanca-ouvidoria-de-combate-a-violencia-policial-e-firma-parceria-com-a-associacao-nacional-de-guardas-municipais-do-brasil/3 -> corpus_out_nb/data/raw/02ec2892aa02f93693ba.html -> html\n"
     ]
    },
    {
     "name": "stderr",
     "output_type": "stream",
     "text": [
      "2025-10-30 15:41:50,705 WARNING: Retrying (Retry(total=0, connect=None, read=None, redirect=None, status=None)) after connection broken by 'SSLError(SSLCertVerificationError(1, '[SSL: CERTIFICATE_VERIFY_FAILED] certificate verify failed: unable to get local issuer certificate (_ssl.c:1007)'))': /wp-content/uploads/sites/9/2022/02/Cuidado_a_Saude_da_Crianca_Adolescente_e_Mulher_em_Situacao_de_Violencia.pdf\n",
      "Baixando Brutos:  80%|███████▉  | 147/184 [02:29<00:43,  1.18s/it]2025-10-30 15:41:51,286 WARNING: Retrying (Retry(total=0, connect=None, read=None, redirect=None, status=None)) after connection broken by 'SSLError(SSLCertVerificationError(1, '[SSL: CERTIFICATE_VERIFY_FAILED] certificate verify failed: unable to get local issuer certificate (_ssl.c:1007)'))': /sinj/Diario/43d90ae5-db71-359f-bd43-30065b760d72/DODF%20082%2006-05-2025%20INTEGRA.pdf\n",
      "Baixando Brutos:  82%|████████▏ | 150/184 [02:31<00:24,  1.40it/s]"
     ]
    },
    {
     "name": "stdout",
     "output_type": "stream",
     "text": [
      "Downloaded and saved: https://goias.gov.br/cultura/wp-content/uploads/sites/25/2024/10/IN_012024_SECULT_GO.pdf -> corpus_out_nb/data/raw/c5ab2e775e73eceef025.pdf -> pdf\n",
      "Downloaded and saved: https://www.cnmp.mp.br/portal/images/Livro_controle_externo_da_atividade_policial_internet.pdf -> corpus_out_nb/data/raw/0ea04dc6d6ddcbe44f42.pdf -> pdf\n"
     ]
    },
    {
     "name": "stderr",
     "output_type": "stream",
     "text": [
      "Baixando Brutos:  82%|████████▏ | 151/184 [02:31<00:19,  1.70it/s]"
     ]
    },
    {
     "name": "stdout",
     "output_type": "stream",
     "text": [
      "Downloaded and saved: https://www.cnj.jus.br/wp-content/uploads/2025/10/livro-pop-rua-17-09-2024.pdf -> corpus_out_nb/data/raw/a4e146c18dd3e2aecc42.pdf -> pdf\n"
     ]
    },
    {
     "name": "stderr",
     "output_type": "stream",
     "text": [
      "Baixando Brutos:  83%|████████▎ | 153/184 [02:32<00:16,  1.85it/s]"
     ]
    },
    {
     "name": "stdout",
     "output_type": "stream",
     "text": [
      "Downloaded and saved: https://www.trt5.jus.br/sites/default/files/sistema/normas/2024-01/0048-2024-cria-subcomite-gestor-regional-do-programa-de-equidade-de-raca-genero-e-diversidade.pdf -> corpus_out_nb/data/raw/df34dbe68b3cda12ebad.pdf -> pdf\n",
      "Downloaded and saved: https://www.mpdft.mp.br/portal/pdf/nucleos/ncap/Manual_Nacional_Controle_Externo_Atividade_Policia.pdf -> corpus_out_nb/data/raw/4e22d519881ed588516c.pdf -> pdf\n"
     ]
    },
    {
     "name": "stderr",
     "output_type": "stream",
     "text": [
      "Baixando Brutos:  84%|████████▎ | 154/184 [02:33<00:20,  1.48it/s]"
     ]
    },
    {
     "name": "stdout",
     "output_type": "stream",
     "text": [
      "Downloaded and saved: https://ww2.trt2.jus.br/fileadmin/comunicacao/Links/20250408_Protocolos_de_Atuacao_e_Julgamento_da_Justica_do_Trabalho_.pdf -> corpus_out_nb/data/raw/93a931865bba2cabd604.pdf -> pdf\n"
     ]
    },
    {
     "name": "stderr",
     "output_type": "stream",
     "text": [
      "Baixando Brutos:  84%|████████▍ | 155/184 [02:34<00:19,  1.49it/s]"
     ]
    },
    {
     "name": "stdout",
     "output_type": "stream",
     "text": [
      "Downloaded and saved: https://www.pib.socioambiental.org/es/Not%C3%ADcias?id=216120 -> corpus_out_nb/data/raw/57c501eb5c115faea31e.html -> html\n"
     ]
    },
    {
     "name": "stderr",
     "output_type": "stream",
     "text": [
      "Baixando Brutos:  85%|████████▍ | 156/184 [02:36<00:34,  1.22s/it]"
     ]
    },
    {
     "name": "stdout",
     "output_type": "stream",
     "text": [
      "Downloaded and saved: https://portal.doe.sea.sc.gov.br/repositorio/2024/20241127/Jornal/22404.pdf -> corpus_out_nb/data/raw/2234111610fc264444ba.pdf -> pdf\n"
     ]
    },
    {
     "name": "stderr",
     "output_type": "stream",
     "text": [
      "Baixando Brutos:  85%|████████▌ | 157/184 [02:39<00:44,  1.66s/it]"
     ]
    },
    {
     "name": "stdout",
     "output_type": "stream",
     "text": [
      "Downloaded and saved: https://repositorio.idp.edu.br/bitstream/123456789/4936/1/Disserta%C3%A7%C3%A3o_RONALDO%20AUGUSTO%20COMAR%20MAR%C3%83O%20SAYEG_Mestrado_2023.pdf -> corpus_out_nb/data/raw/902bcf42b4590397ad17.pdf -> pdf\n"
     ]
    },
    {
     "name": "stderr",
     "output_type": "stream",
     "text": [
      "2025-10-30 15:42:01,224 WARNING: Retrying (Retry(total=2, connect=None, read=None, redirect=None, status=None)) after connection broken by 'NewConnectionError('<urllib3.connection.HTTPSConnection object at 0x7f9cd6b6a590>: Failed to establish a new connection: [Errno -2] Name or service not known')': /bitstreams/fee950d5-dc21-4691-b0c8-3bd28846e844/download\n",
      "Baixando Brutos:  86%|████████▋ | 159/184 [02:41<00:32,  1.31s/it]"
     ]
    },
    {
     "name": "stdout",
     "output_type": "stream",
     "text": [
      "Downloaded and saved: https://www.hrw.org/pt/news/2024/10/10/un-experts-spotlight-devastating-police-brutality-brazil -> corpus_out_nb/data/raw/5f5daf1840ec9aa7a047.html -> html\n"
     ]
    },
    {
     "name": "stderr",
     "output_type": "stream",
     "text": [
      "2025-10-30 15:42:02,829 WARNING: Retrying (Retry(total=1, connect=None, read=None, redirect=None, status=None)) after connection broken by 'NewConnectionError('<urllib3.connection.HTTPSConnection object at 0x7f9cd41e6a10>: Failed to establish a new connection: [Errno -2] Name or service not known')': /bitstreams/fee950d5-dc21-4691-b0c8-3bd28846e844/download\n",
      "2025-10-30 15:42:03,445 WARNING: Retrying (Retry(total=2, connect=None, read=None, redirect=None, status=None)) after connection broken by 'SSLError(SSLCertVerificationError(1, '[SSL: CERTIFICATE_VERIFY_FAILED] certificate verify failed: unable to get local issuer certificate (_ssl.c:1007)'))': /jspui/bitstream/123456789/4340/1/CLARA%20MARIA%20SANTIAGO%20GONC%CC%A7ALVES.pdf\n",
      "Baixando Brutos:  87%|████████▋ | 160/184 [02:43<00:37,  1.54s/it]"
     ]
    },
    {
     "name": "stdout",
     "output_type": "stream",
     "text": [
      "Downloaded and saved: http://ejm.tjmmg.jus.br/ejm/wp-content/uploads/2024/12/casoteca-2017.pdf -> corpus_out_nb/data/raw/60105d962676977ec48e.pdf -> pdf\n"
     ]
    },
    {
     "name": "stderr",
     "output_type": "stream",
     "text": [
      "Baixando Brutos:  88%|████████▊ | 161/184 [02:44<00:29,  1.28s/it]2025-10-30 15:42:05,276 WARNING: Retrying (Retry(total=1, connect=None, read=None, redirect=None, status=None)) after connection broken by 'SSLError(SSLCertVerificationError(1, '[SSL: CERTIFICATE_VERIFY_FAILED] certificate verify failed: unable to get local issuer certificate (_ssl.c:1007)'))': /jspui/bitstream/123456789/4340/1/CLARA%20MARIA%20SANTIAGO%20GONC%CC%A7ALVES.pdf\n"
     ]
    },
    {
     "name": "stdout",
     "output_type": "stream",
     "text": [
      "Downloaded and saved: https://www.policiacivil.ma.gov.br/wp-content/uploads/2024/05/IN-No-008-2021-PLANTAO-DEM-SLZ-NOVA-DOE.pdf -> corpus_out_nb/data/raw/c28be9acaa02965792a7.pdf -> pdf\n"
     ]
    },
    {
     "name": "stderr",
     "output_type": "stream",
     "text": [
      "2025-10-30 15:42:06,033 WARNING: Retrying (Retry(total=0, connect=None, read=None, redirect=None, status=None)) after connection broken by 'NewConnectionError('<urllib3.connection.HTTPSConnection object at 0x7f9cd6b12ce0>: Failed to establish a new connection: [Errno -2] Name or service not known')': /bitstreams/fee950d5-dc21-4691-b0c8-3bd28846e844/download\n",
      "Baixando Brutos:  89%|████████▊ | 163/184 [02:45<00:22,  1.06s/it]"
     ]
    },
    {
     "name": "stdout",
     "output_type": "stream",
     "text": [
      "Downloaded and saved: https://tede.ufam.edu.br/bitstream/tede/10191/5/DISS_RaimundoAlbuquerque_PPSCA -> corpus_out_nb/data/raw/eb36dd57c92e552be75a.pdf -> pdf\n"
     ]
    },
    {
     "name": "stderr",
     "output_type": "stream",
     "text": [
      "2025-10-30 15:42:07,271 WARNING: Retrying (Retry(total=2, connect=None, read=None, redirect=None, status=None)) after connection broken by 'SSLError(SSLCertVerificationError(1, '[SSL: CERTIFICATE_VERIFY_FAILED] certificate verify failed: unable to get local issuer certificate (_ssl.c:1007)'))': /arquivo/djEletronico/DJE_20220621_120.pdf\n",
      "Baixando Brutos:  89%|████████▉ | 164/184 [02:46<00:18,  1.09it/s]"
     ]
    },
    {
     "name": "stdout",
     "output_type": "stream",
     "text": [
      "Downloaded and saved: https://www.hrw.org/reports/wr2015port_ForUpload.pdf -> corpus_out_nb/data/raw/6efc5773f57a3dbf0df6.pdf -> pdf\n"
     ]
    },
    {
     "name": "stderr",
     "output_type": "stream",
     "text": [
      "Baixando Brutos:  90%|████████▉ | 165/184 [02:47<00:18,  1.04it/s]"
     ]
    },
    {
     "name": "stdout",
     "output_type": "stream",
     "text": [
      "Downloaded and saved: https://www.tjdft.jus.br/informacoes/cidadania/nucleo-judiciario-da-mulher/parceiros/material-informativo-e-instrucional/cartilha-da-pessoa-com-deficiencia-easjur-e-dpdf.pdf -> corpus_out_nb/data/raw/094b6946739c5c3fbc24.pdf -> pdf\n"
     ]
    },
    {
     "name": "stderr",
     "output_type": "stream",
     "text": [
      "2025-10-30 15:42:08,753 WARNING: Retrying (Retry(total=0, connect=None, read=None, redirect=None, status=None)) after connection broken by 'SSLError(SSLCertVerificationError(1, '[SSL: CERTIFICATE_VERIFY_FAILED] certificate verify failed: unable to get local issuer certificate (_ssl.c:1007)'))': /jspui/bitstream/123456789/4340/1/CLARA%20MARIA%20SANTIAGO%20GONC%CC%A7ALVES.pdf\n",
      "2025-10-30 15:42:08,963 WARNING: Retrying (Retry(total=1, connect=None, read=None, redirect=None, status=None)) after connection broken by 'SSLError(SSLCertVerificationError(1, '[SSL: CERTIFICATE_VERIFY_FAILED] certificate verify failed: unable to get local issuer certificate (_ssl.c:1007)'))': /arquivo/djEletronico/DJE_20220621_120.pdf\n",
      "Baixando Brutos:  91%|█████████▏| 168/184 [02:49<00:10,  1.52it/s]"
     ]
    },
    {
     "name": "stdout",
     "output_type": "stream",
     "text": [
      "Downloaded and saved: https://sxpolitics.org/ptbr/wp-content/uploads/sites/3/2019/10/Copia-de-VERSAO-WEB-compactado-1.pdf -> corpus_out_nb/data/raw/798678a1a89f684aab45.pdf -> pdf\n",
      "Downloaded and saved: https://www.pmvc.ba.gov.br/wp-content/uploads/Protocolo-Unificado-de-Atendimento-Integrado-a-Crian%C3%A7as-e-Adolescentes-V%C3%ADtimas-ou-Testemunhas-de-Viol%C3%AAncia.pdf -> corpus_out_nb/data/raw/ae24384f24e4e10014b0.pdf -> pdf\n"
     ]
    },
    {
     "name": "stderr",
     "output_type": "stream",
     "text": [
      "Baixando Brutos:  92%|█████████▏| 169/184 [02:50<00:13,  1.13it/s]2025-10-30 15:42:12,253 WARNING: Retrying (Retry(total=0, connect=None, read=None, redirect=None, status=None)) after connection broken by 'SSLError(SSLCertVerificationError(1, '[SSL: CERTIFICATE_VERIFY_FAILED] certificate verify failed: unable to get local issuer certificate (_ssl.c:1007)'))': /arquivo/djEletronico/DJE_20220621_120.pdf\n",
      "Baixando Brutos:  93%|█████████▎| 172/184 [02:52<00:09,  1.21it/s]"
     ]
    },
    {
     "name": "stdout",
     "output_type": "stream",
     "text": [
      "Downloaded and saved: https://www.prefeitura.sp.gov.br/cidade/secretarias/upload/direitos_humanos/MULHER/Casa%20da%20mulher%20-%20revisado%202%20(2).pdf -> corpus_out_nb/data/raw/3b72f2e9e0afdb5907ec.pdf -> pdf\n"
     ]
    },
    {
     "name": "stderr",
     "output_type": "stream",
     "text": [
      "Baixando Brutos:  95%|█████████▍| 174/184 [02:53<00:05,  1.70it/s]"
     ]
    },
    {
     "name": "stdout",
     "output_type": "stream",
     "text": [
      "Downloaded and saved: http://ejm.tjmmg.jus.br/ejm/wp-content/uploads/2024/12/casoteca-2021-2022.pdf -> corpus_out_nb/data/raw/b8143f65beeef3451e1f.pdf -> pdf\n",
      "Downloaded and saved: https://www.gov.br/mdh/pt-br/navegue-por-temas/politicas-para-mulheres/arquivo/arquivos-diversos/sev/lei-maria-da-penha/cartilhabr-mulher09.pdf -> corpus_out_nb/data/raw/a6f55463c2bc494c5014.pdf -> pdf\n"
     ]
    },
    {
     "name": "stderr",
     "output_type": "stream",
     "text": [
      "Baixando Brutos:  95%|█████████▌| 175/184 [02:54<00:06,  1.37it/s]"
     ]
    },
    {
     "name": "stdout",
     "output_type": "stream",
     "text": [
      "Downloaded and saved: https://www.tjes.jus.br/wp-content/uploads/Cartilha_COMVIDES_2018-1.pdf -> corpus_out_nb/data/raw/66b710fc2a255a7f2a39.pdf -> pdf\n"
     ]
    },
    {
     "name": "stderr",
     "output_type": "stream",
     "text": [
      "Baixando Brutos:  96%|█████████▌| 176/184 [02:55<00:05,  1.36it/s]"
     ]
    },
    {
     "name": "stdout",
     "output_type": "stream",
     "text": [
      "Downloaded and saved: https://www.gov.br/mdh/pt-br/navegue-por-temas/politicas-para-mulheres/arquivo/arquivos-diversos/sev/lei-maria-da-penha/doc-do-item-8.2.-norma-deams-2010.pdf -> corpus_out_nb/data/raw/cd76bf37ebaf28434989.pdf -> pdf\n"
     ]
    },
    {
     "name": "stderr",
     "output_type": "stream",
     "text": [
      "Baixando Brutos:  96%|█████████▌| 177/184 [02:56<00:06,  1.13it/s]"
     ]
    },
    {
     "name": "stdout",
     "output_type": "stream",
     "text": [
      "Downloaded and saved: https://atos.cnj.jus.br/files/compilado2022562021082061200f20b40f5.pdf -> corpus_out_nb/data/raw/3d0e351afd1d25efea8b.pdf -> pdf\n"
     ]
    },
    {
     "name": "stderr",
     "output_type": "stream",
     "text": [
      "Baixando Brutos:  97%|█████████▋| 178/184 [02:57<00:05,  1.09it/s]"
     ]
    },
    {
     "name": "stdout",
     "output_type": "stream",
     "text": [
      "Downloaded and saved: https://www.tjsp.jus.br/Download/Pdf/Comesp/Relatorios/RelatorioComesp2023.pdf -> corpus_out_nb/data/raw/7be252406411d0001424.pdf -> pdf\n"
     ]
    },
    {
     "name": "stderr",
     "output_type": "stream",
     "text": [
      "Baixando Brutos:  97%|█████████▋| 179/184 [02:59<00:06,  1.27s/it]"
     ]
    },
    {
     "name": "stdout",
     "output_type": "stream",
     "text": [
      "Downloaded and saved: https://www.prefeitura.sp.gov.br/cidade/secretarias/upload/Manual%20%20Violencia%20ESF%20%20MP(1).pdf -> corpus_out_nb/data/raw/1e7aacdba25bcecd9b2e.pdf -> pdf\n"
     ]
    },
    {
     "name": "stderr",
     "output_type": "stream",
     "text": [
      "Baixando Brutos:  98%|█████████▊| 180/184 [03:00<00:04,  1.21s/it]"
     ]
    },
    {
     "name": "stdout",
     "output_type": "stream",
     "text": [
      "Downloaded and saved: https://www.cnmp.mp.br/portal/images/Conatetrap/Materiais_de_Apoio/Livro_Trafico_de_Pessoas.pdf -> corpus_out_nb/data/raw/3eb149b1140975994cbb.pdf -> pdf\n"
     ]
    },
    {
     "name": "stderr",
     "output_type": "stream",
     "text": [
      "Baixando Brutos:  98%|█████████▊| 181/184 [03:01<00:03,  1.18s/it]"
     ]
    },
    {
     "name": "stdout",
     "output_type": "stream",
     "text": [
      "Downloaded and saved: https://www.cnj.jus.br/wp-content/uploads/conteudo/arquivo/2019/08/7b7cb6d9ac9042c8d3e40700b80bf207.pdf -> corpus_out_nb/data/raw/600dab2997c6b0616ad3.pdf -> pdf\n"
     ]
    },
    {
     "name": "stderr",
     "output_type": "stream",
     "text": [
      "Baixando Brutos:  99%|█████████▉| 182/184 [03:02<00:02,  1.06s/it]"
     ]
    },
    {
     "name": "stdout",
     "output_type": "stream",
     "text": [
      "Downloaded and saved: https://www.cnj.jus.br/wp-content/uploads/2023/08/manual-tomada-decisao-parametros-gerais-eletronica.pdf -> corpus_out_nb/data/raw/fd9875887854f6f22809.pdf -> pdf\n"
     ]
    },
    {
     "name": "stderr",
     "output_type": "stream",
     "text": [
      "Baixando Brutos:  99%|█████████▉| 183/184 [03:05<00:01,  1.56s/it]"
     ]
    },
    {
     "name": "stdout",
     "output_type": "stream",
     "text": [
      "Downloaded and saved: https://www.tjrj.jus.br/documents/5736540/6284571/dir-adm.pdf -> corpus_out_nb/data/raw/a9f3b17c91163e8ab545.pdf -> pdf\n"
     ]
    },
    {
     "name": "stderr",
     "output_type": "stream",
     "text": [
      "Baixando Brutos: 100%|██████████| 184/184 [03:07<00:00,  1.02s/it]"
     ]
    },
    {
     "name": "stdout",
     "output_type": "stream",
     "text": [
      "Downloaded and saved: https://www.tjam.jus.br/images/ESMAM/Projetos_Esmam/Cartilha_Nossa_dor.pdf -> corpus_out_nb/data/raw/9a743a94ea0ca7a559af.pdf -> pdf\n",
      "\n",
      "Total de resultados: 0\n",
      "Primeiros 3 resultados: []\n"
     ]
    },
    {
     "name": "stderr",
     "output_type": "stream",
     "text": [
      "\n"
     ]
    },
    {
     "data": {
      "text/plain": [
       "(0, [])"
      ]
     },
     "execution_count": 5,
     "metadata": {},
     "output_type": "execute_result"
    }
   ],
   "source": [
    "from tqdm import tqdm\n",
    "from concurrent.futures import ThreadPoolExecutor, as_completed\n",
    "# Assume-se que 'RAW_DIR', 'TEXT_DIR', 'limiter', 'session', 'sha256', \n",
    "# 'extract_pdf_text', 'extract_html_main', 'clean_text', 'MIN_CHARS', \n",
    "# e 'dedup' estão definidos em células anteriores.\n",
    "\n",
    "RAW_DIR = OUTDIR / \"data\" / \"raw\"\n",
    "TEXT_DIR = OUTDIR / \"data\" / \"text\"\n",
    "results = []\n",
    "download_results = [] # Lista para armazenar resultados da Fase 1\n",
    "\n",
    "# --- Método 1: Download e Salvamento do Arquivo Bruto ---\n",
    "def download_raw(row):\n",
    "    \"\"\"Realiza a requisição HTTP, salva o arquivo bruto e retorna o status e o caminho.\"\"\"\n",
    "    url = row[\"url\"]\n",
    "    item_type = row.get(\"type\", \"\").lower()\n",
    "    url_norm = row[\"url_norm\"] # Usando url_norm já calculada\n",
    "\n",
    "    # O true pula a verificação de robots.txt\n",
    "    if not True: #robots.can_fetch(url): \n",
    "        return {\"url\": url, \"status\": \"robots_disallow\"}\n",
    "    \n",
    "    limiter.acquire()\n",
    "    \n",
    "    try:\n",
    "        resp = session.get(url)\n",
    "        ct = resp.headers.get(\"Content-Type\", \"\")\n",
    "        content = resp.content\n",
    "        status = resp.status_code\n",
    "    except Exception as e:\n",
    "        return {\"url\": url, \"status\": f\"fetch_error:{e}\"}\n",
    "    \n",
    "    if status != 200 or not content:\n",
    "        return {\"url\": url, \"status\": f\"http_{status}\"}\n",
    "    \n",
    "    # Determinação do tipo de arquivo, usando 'type' do manifesto como prioridade\n",
    "    is_pdf = (item_type == \"pdf\")\n",
    "    ext = \".pdf\" if is_pdf else \".html\"\n",
    "    fname = sha256(url_norm)[:20] + ext\n",
    "    raw_path = RAW_DIR / fname\n",
    "    \n",
    "    try:\n",
    "        raw_path.write_bytes(content)\n",
    "    except Exception as e:\n",
    "        return {\"url\": url, \"status\": f\"save_raw_error:{e}\"}\n",
    "\n",
    "    print(f\"Downloaded and saved: {url} -> {raw_path} -> {item_type}\")    \n",
    "    return {\n",
    "        \"url\": url, \n",
    "        \"status\": \"download_ok\", \n",
    "        \"raw_path\": str(raw_path),\n",
    "        \"is_pdf\": is_pdf,\n",
    "        \"content\": content # Passa o conteúdo para evitar ler o disco novamente para HTML\n",
    "    }\n",
    "\n",
    "\n",
    "# 1. FASE DE DOWNLOAD\n",
    "print(\"\\n--- FASE 1: DOWNLOAD DOS ARQUIVOS BRUTOS ---\")\n",
    "if 'dedup' in locals() and not dedup.empty:\n",
    "    dedup_list = dedup.to_dict(orient=\"records\")\n",
    "    with ThreadPoolExecutor(max_workers=MAX_WORKERS) as ex_fetch:\n",
    "        futs_fetch = [ex_fetch.submit(download_raw, r) for r in dedup_list]\n",
    "        for fut_fetch in tqdm(as_completed(futs_fetch), total=len(futs_fetch), desc=\"Baixando Brutos\"):\n",
    "            download_results.append(fut_fetch.result())\n",
    "\n",
    "else:\n",
    "    log.warning(\"Nenhuma URL para processar após a deduplicação.\")\n",
    "\n",
    "\n",
    "\n",
    "# Saída do bloco original\n",
    "print(f\"\\nTotal de resultados: {len(results)}\")\n",
    "print(f\"Primeiros 3 resultados: {results[:3]}\")\n",
    "\n",
    "len(results), results[:3]"
   ]
  },
  {
   "cell_type": "code",
   "execution_count": 38,
   "id": "e62697e4",
   "metadata": {},
   "outputs": [
    {
     "name": "stdout",
     "output_type": "stream",
     "text": [
      "\n",
      "--- FASE 2: EXTRAÇÃO E LIMPEZA DE TEXTO ---\n",
      "DEBUG: Texto extraído por fitz (31753 chars).\n"
     ]
    },
    {
     "name": "stderr",
     "output_type": "stream",
     "text": [
      "Extraindo Texto:   0%|          | 0/150 [00:00<?, ?it/s]"
     ]
    },
    {
     "name": "stdout",
     "output_type": "stream",
     "text": [
      "DEBUG: Texto extraído por fitz (20635 chars).\n"
     ]
    },
    {
     "name": "stderr",
     "output_type": "stream",
     "text": [
      "Extraindo Texto:   2%|▏         | 3/150 [00:00<00:37,  3.91it/s]"
     ]
    },
    {
     "name": "stdout",
     "output_type": "stream",
     "text": [
      "DEBUG: Texto extraído por fitz (218071 chars).\n",
      "DEBUG: Texto extraído por fitz (368422 chars).\n"
     ]
    },
    {
     "name": "stderr",
     "output_type": "stream",
     "text": [
      "Extraindo Texto:   3%|▎         | 4/150 [00:01<00:40,  3.59it/s]encoding error : input conversion failed due to input error, bytes 0x8F 0x1C 0xB7 0x11\n",
      "encoding error : input conversion failed due to input error, bytes 0x8F 0x1C 0xB7 0x11\n",
      "Extraindo Texto:   6%|▌         | 9/150 [00:02<00:34,  4.14it/s]"
     ]
    },
    {
     "name": "stdout",
     "output_type": "stream",
     "text": [
      "DEBUG: Texto extraído por fitz (122781 chars).\n",
      "DEBUG: Texto extraído por fitz (41443 chars).\n",
      "DEBUG: Texto extraído por fitz (29697 chars).\n",
      "DEBUG: Texto extraído por fitz (30677 chars).\n"
     ]
    },
    {
     "name": "stderr",
     "output_type": "stream",
     "text": [
      "Extraindo Texto:  10%|█         | 15/150 [00:04<00:24,  5.56it/s]"
     ]
    },
    {
     "name": "stdout",
     "output_type": "stream",
     "text": [
      "DEBUG: Texto extraído por fitz (61222 chars).\n",
      "DEBUG: Texto extraído por fitz (6586 chars).\n",
      "DEBUG: Texto extraído por fitz (39112 chars).\n",
      "DEBUG: Texto extraído por fitz (135146 chars).\n"
     ]
    },
    {
     "name": "stderr",
     "output_type": "stream",
     "text": [
      "Extraindo Texto:  13%|█▎        | 19/150 [00:04<00:16,  7.85it/s]"
     ]
    },
    {
     "name": "stdout",
     "output_type": "stream",
     "text": [
      "DEBUG: Texto extraído por fitz (68218 chars).\n",
      "DEBUG: Texto extraído por fitz (206796 chars).\n"
     ]
    },
    {
     "name": "stderr",
     "output_type": "stream",
     "text": [
      "Extraindo Texto:  14%|█▍        | 21/150 [00:05<00:40,  3.17it/s]encoding error : input conversion failed due to input error, bytes 0x90 0x01 0x01 0x04\n",
      "encoding error : input conversion failed due to input error, bytes 0x90 0x01 0x01 0x04\n",
      "Extraindo Texto:  15%|█▌        | 23/150 [00:06<00:43,  2.91it/s]"
     ]
    },
    {
     "name": "stdout",
     "output_type": "stream",
     "text": [
      "DEBUG: Texto extraído por fitz (643546 chars).\n",
      "DEBUG: Texto extraído por fitz (1008770 chars).\n",
      "DEBUG: Texto extraído por fitz (1528025 chars).\n"
     ]
    },
    {
     "name": "stderr",
     "output_type": "stream",
     "text": [
      "Extraindo Texto:  17%|█▋        | 26/150 [00:08<00:49,  2.51it/s]"
     ]
    },
    {
     "name": "stdout",
     "output_type": "stream",
     "text": [
      "DEBUG: Texto extraído por fitz (52958 chars).\n",
      "DEBUG: Texto extraído por fitz (138094 chars).\n"
     ]
    },
    {
     "name": "stderr",
     "output_type": "stream",
     "text": [
      "Extraindo Texto:  19%|█▊        | 28/150 [00:08<00:36,  3.32it/s]"
     ]
    },
    {
     "name": "stdout",
     "output_type": "stream",
     "text": [
      "DEBUG: Texto extraído por fitz (179231 chars).\n",
      "DEBUG: Texto extraído por fitz (4827 chars).\n"
     ]
    },
    {
     "name": "stderr",
     "output_type": "stream",
     "text": [
      "Extraindo Texto:  20%|██        | 30/150 [00:09<00:30,  3.97it/s]"
     ]
    },
    {
     "name": "stdout",
     "output_type": "stream",
     "text": [
      "DEBUG: Texto extraído por fitz (425720 chars).\n"
     ]
    },
    {
     "name": "stderr",
     "output_type": "stream",
     "text": [
      "Extraindo Texto:  21%|██        | 31/150 [00:09<00:30,  3.93it/s]"
     ]
    },
    {
     "name": "stdout",
     "output_type": "stream",
     "text": [
      "DEBUG: Texto extraído por fitz (499983 chars).\n",
      "DEBUG: Texto extraído por fitz (54429 chars).\n",
      "DEBUG: Texto extraído por fitz (48596 chars).\n"
     ]
    },
    {
     "name": "stderr",
     "output_type": "stream",
     "text": [
      "Extraindo Texto:  23%|██▎       | 34/150 [00:09<00:19,  5.99it/s]"
     ]
    },
    {
     "name": "stdout",
     "output_type": "stream",
     "text": [
      "DEBUG: Texto extraído por fitz (129930 chars).\n"
     ]
    },
    {
     "name": "stderr",
     "output_type": "stream",
     "text": [
      "Extraindo Texto:  23%|██▎       | 35/150 [00:09<00:21,  5.23it/s]"
     ]
    },
    {
     "name": "stdout",
     "output_type": "stream",
     "text": [
      "DEBUG: Texto extraído por fitz (426327 chars).\n",
      "DEBUG: Texto extraído por fitz (13742 chars).\n",
      "DEBUG: Texto extraído por fitz (187882 chars).\n"
     ]
    },
    {
     "name": "stderr",
     "output_type": "stream",
     "text": [
      "Extraindo Texto:  26%|██▌       | 39/150 [00:10<00:16,  6.68it/s]"
     ]
    },
    {
     "name": "stdout",
     "output_type": "stream",
     "text": [
      "DEBUG: Texto extraído por fitz (100068 chars).\n",
      "DEBUG: Texto extraído por fitz (166625 chars).\n"
     ]
    },
    {
     "name": "stderr",
     "output_type": "stream",
     "text": [
      "Extraindo Texto:  27%|██▋       | 41/150 [00:10<00:13,  8.02it/s]"
     ]
    },
    {
     "name": "stdout",
     "output_type": "stream",
     "text": [
      "DEBUG: Texto extraído por fitz (23346 chars).\n"
     ]
    },
    {
     "name": "stderr",
     "output_type": "stream",
     "text": [
      "Extraindo Texto:  28%|██▊       | 42/150 [00:11<00:31,  3.40it/s]"
     ]
    },
    {
     "name": "stdout",
     "output_type": "stream",
     "text": [
      "DEBUG: Texto extraído por fitz (246843 chars).\n"
     ]
    },
    {
     "name": "stderr",
     "output_type": "stream",
     "text": [
      "Extraindo Texto:  29%|██▉       | 44/150 [00:12<00:40,  2.64it/s]"
     ]
    },
    {
     "name": "stdout",
     "output_type": "stream",
     "text": [
      "DEBUG: Texto extraído por fitz (923461 chars).\n",
      "DEBUG: Texto extraído por fitz (87945 chars).\n"
     ]
    },
    {
     "name": "stderr",
     "output_type": "stream",
     "text": [
      "Extraindo Texto:  31%|███▏      | 47/150 [00:13<00:28,  3.55it/s]"
     ]
    },
    {
     "name": "stdout",
     "output_type": "stream",
     "text": [
      "DEBUG: Texto extraído por fitz (643345 chars).\n",
      "DEBUG: Texto extraído por fitz (43943 chars).\n"
     ]
    },
    {
     "name": "stderr",
     "output_type": "stream",
     "text": [
      "Extraindo Texto:  33%|███▎      | 49/150 [00:13<00:22,  4.41it/s]"
     ]
    },
    {
     "name": "stdout",
     "output_type": "stream",
     "text": [
      "DEBUG: Texto extraído por fitz (347906 chars).\n"
     ]
    },
    {
     "name": "stderr",
     "output_type": "stream",
     "text": [
      "Extraindo Texto:  35%|███▍      | 52/150 [00:14<00:22,  4.38it/s]"
     ]
    },
    {
     "name": "stdout",
     "output_type": "stream",
     "text": [
      "DEBUG: Texto extraído por fitz (992025 chars).\n"
     ]
    },
    {
     "name": "stderr",
     "output_type": "stream",
     "text": [
      "Extraindo Texto:  35%|███▌      | 53/150 [00:14<00:24,  3.90it/s]"
     ]
    },
    {
     "name": "stdout",
     "output_type": "stream",
     "text": [
      "DEBUG: Texto extraído por fitz (90144 chars).\n"
     ]
    },
    {
     "name": "stderr",
     "output_type": "stream",
     "text": [
      "Extraindo Texto:  36%|███▌      | 54/150 [00:15<00:36,  2.64it/s]"
     ]
    },
    {
     "name": "stdout",
     "output_type": "stream",
     "text": [
      "DEBUG: Texto extraído por fitz (410671 chars).\n"
     ]
    },
    {
     "name": "stderr",
     "output_type": "stream",
     "text": [
      "Extraindo Texto:  37%|███▋      | 56/150 [00:15<00:29,  3.14it/s]"
     ]
    },
    {
     "name": "stdout",
     "output_type": "stream",
     "text": [
      "DEBUG: Texto extraído por fitz (44047 chars).\n"
     ]
    },
    {
     "name": "stderr",
     "output_type": "stream",
     "text": [
      "Extraindo Texto:  38%|███▊      | 57/150 [00:16<00:32,  2.82it/s]"
     ]
    },
    {
     "name": "stdout",
     "output_type": "stream",
     "text": [
      "DEBUG: Texto extraído por fitz (233694 chars).\n",
      "DEBUG: Texto extraído por fitz (472398 chars).\n"
     ]
    },
    {
     "name": "stderr",
     "output_type": "stream",
     "text": [
      "Extraindo Texto:  39%|███▊      | 58/150 [00:16<00:26,  3.47it/s]"
     ]
    },
    {
     "name": "stdout",
     "output_type": "stream",
     "text": [
      "DEBUG: Texto extraído por fitz (228897 chars).\n"
     ]
    },
    {
     "name": "stderr",
     "output_type": "stream",
     "text": [
      "Extraindo Texto:  40%|████      | 60/150 [00:17<00:23,  3.81it/s]"
     ]
    },
    {
     "name": "stdout",
     "output_type": "stream",
     "text": [
      "DEBUG: Texto extraído por fitz (534381 chars).\n",
      "DEBUG: Texto extraído por fitz (16159 chars).\n"
     ]
    },
    {
     "name": "stderr",
     "output_type": "stream",
     "text": [
      "Extraindo Texto:  44%|████▍     | 66/150 [00:18<00:18,  4.55it/s]"
     ]
    },
    {
     "name": "stdout",
     "output_type": "stream",
     "text": [
      "DEBUG: Texto extraído por fitz (220725 chars).\n",
      "DEBUG: Texto extraído por fitz (8650 chars).\n",
      "DEBUG: Texto extraído por fitz (2 chars).\n",
      "Nenhum método de extração funcionou.\n"
     ]
    },
    {
     "name": "stderr",
     "output_type": "stream",
     "text": [
      "Extraindo Texto:  45%|████▌     | 68/150 [00:18<00:16,  4.98it/s]"
     ]
    },
    {
     "name": "stdout",
     "output_type": "stream",
     "text": [
      "DEBUG: Texto extraído por fitz (170113 chars).\n",
      "DEBUG: Texto extraído por fitz (168369 chars).\n"
     ]
    },
    {
     "name": "stderr",
     "output_type": "stream",
     "text": [
      "Extraindo Texto:  46%|████▌     | 69/150 [00:19<00:18,  4.29it/s]"
     ]
    },
    {
     "name": "stdout",
     "output_type": "stream",
     "text": [
      "DEBUG: Texto extraído por fitz (462919 chars).\n"
     ]
    },
    {
     "name": "stderr",
     "output_type": "stream",
     "text": [
      "Extraindo Texto:  47%|████▋     | 71/150 [00:19<00:16,  4.81it/s]"
     ]
    },
    {
     "name": "stdout",
     "output_type": "stream",
     "text": [
      "DEBUG: Texto extraído por fitz (205734 chars).\n",
      "DEBUG: Texto extraído por fitz (148937 chars).\n",
      "DEBUG: Texto extraído por fitz (4790 chars).\n"
     ]
    },
    {
     "name": "stderr",
     "output_type": "stream",
     "text": [
      "Extraindo Texto:  49%|████▊     | 73/150 [00:19<00:16,  4.79it/s]"
     ]
    },
    {
     "name": "stdout",
     "output_type": "stream",
     "text": [
      "DEBUG: Texto extraído por fitz (415490 chars).\n",
      "DEBUG: Texto extraído por fitz (182987 chars).\n"
     ]
    },
    {
     "name": "stderr",
     "output_type": "stream",
     "text": [
      "Extraindo Texto:  50%|█████     | 75/150 [00:20<00:14,  5.12it/s]"
     ]
    },
    {
     "name": "stdout",
     "output_type": "stream",
     "text": [
      "DEBUG: Texto extraído por fitz (205163 chars).\n"
     ]
    },
    {
     "name": "stderr",
     "output_type": "stream",
     "text": [
      "Extraindo Texto:  51%|█████     | 76/150 [00:20<00:20,  3.58it/s]"
     ]
    },
    {
     "name": "stdout",
     "output_type": "stream",
     "text": [
      "DEBUG: Texto extraído por fitz (642398 chars).\n",
      "DEBUG: Texto extraído por fitz (94926 chars).\n"
     ]
    },
    {
     "name": "stderr",
     "output_type": "stream",
     "text": [
      "Extraindo Texto:  52%|█████▏    | 78/150 [00:21<00:14,  5.07it/s]"
     ]
    },
    {
     "name": "stdout",
     "output_type": "stream",
     "text": [
      "DEBUG: Texto extraído por fitz (115331 chars).\n"
     ]
    },
    {
     "name": "stderr",
     "output_type": "stream",
     "text": [
      "Extraindo Texto:  53%|█████▎    | 80/150 [00:21<00:12,  5.54it/s]"
     ]
    },
    {
     "name": "stdout",
     "output_type": "stream",
     "text": [
      "DEBUG: Texto extraído por fitz (90499 chars).\n",
      "DEBUG: Texto extraído por fitz (187890 chars).\n"
     ]
    },
    {
     "name": "stderr",
     "output_type": "stream",
     "text": [
      "Extraindo Texto:  55%|█████▌    | 83/150 [00:21<00:12,  5.30it/s]"
     ]
    },
    {
     "name": "stdout",
     "output_type": "stream",
     "text": [
      "DEBUG: Texto extraído por fitz (30066 chars).\n",
      "DEBUG: Texto extraído por fitz (534497 chars).\n",
      "DEBUG: Texto extraído por fitz (90379 chars).\n"
     ]
    },
    {
     "name": "stderr",
     "output_type": "stream",
     "text": [
      "Extraindo Texto:  57%|█████▋    | 86/150 [00:22<00:09,  7.10it/s]"
     ]
    },
    {
     "name": "stdout",
     "output_type": "stream",
     "text": [
      "DEBUG: Texto extraído por fitz (506486 chars).\n",
      "DEBUG: Texto extraído por fitz (52045 chars).\n",
      "DEBUG: Texto extraído por fitz (39781 chars).\n",
      "DEBUG: Texto extraído por fitz (11912 chars).\n",
      "DEBUG: Texto extraído por fitz (70277 chars).\n"
     ]
    },
    {
     "name": "stderr",
     "output_type": "stream",
     "text": [
      "Extraindo Texto:  60%|██████    | 90/150 [00:22<00:04, 12.09it/s]"
     ]
    },
    {
     "name": "stdout",
     "output_type": "stream",
     "text": [
      "DEBUG: Texto extraído por fitz (388835 chars).\n",
      "DEBUG: Texto extraído por fitz (311316 chars).\n"
     ]
    },
    {
     "name": "stderr",
     "output_type": "stream",
     "text": [
      "Extraindo Texto:  61%|██████▏   | 92/150 [00:23<00:12,  4.76it/s]"
     ]
    },
    {
     "name": "stdout",
     "output_type": "stream",
     "text": [
      "DEBUG: Texto extraído por fitz (1167059 chars).\n"
     ]
    },
    {
     "name": "stderr",
     "output_type": "stream",
     "text": [
      "Extraindo Texto:  63%|██████▎   | 94/150 [00:24<00:16,  3.47it/s]"
     ]
    },
    {
     "name": "stdout",
     "output_type": "stream",
     "text": [
      "DEBUG: Texto extraído por fitz (736351 chars).\n",
      "DEBUG: Texto extraído por fitz (51067 chars).\n"
     ]
    },
    {
     "name": "stderr",
     "output_type": "stream",
     "text": [
      "Extraindo Texto:  65%|██████▍   | 97/150 [00:24<00:11,  4.63it/s]"
     ]
    },
    {
     "name": "stdout",
     "output_type": "stream",
     "text": [
      "DEBUG: Texto extraído por fitz (192425 chars).\n",
      "DEBUG: Texto extraído por fitz (117140 chars).\n",
      "DEBUG: Texto extraído por fitz (87597 chars).\n"
     ]
    },
    {
     "name": "stderr",
     "output_type": "stream",
     "text": [
      "Extraindo Texto:  67%|██████▋   | 100/150 [00:25<00:10,  4.72it/s]"
     ]
    },
    {
     "name": "stdout",
     "output_type": "stream",
     "text": [
      "DEBUG: Texto extraído por fitz (519980 chars).\n",
      "DEBUG: Texto extraído por fitz (140806 chars).\n"
     ]
    },
    {
     "name": "stderr",
     "output_type": "stream",
     "text": [
      "Extraindo Texto:  67%|██████▋   | 101/150 [00:25<00:11,  4.22it/s]"
     ]
    },
    {
     "name": "stdout",
     "output_type": "stream",
     "text": [
      "DEBUG: Texto extraído por fitz (187402 chars).\n",
      "DEBUG: Texto extraído por fitz (152487 chars).\n"
     ]
    },
    {
     "name": "stderr",
     "output_type": "stream",
     "text": [
      "Extraindo Texto:  69%|██████▊   | 103/150 [00:26<00:09,  5.16it/s]"
     ]
    },
    {
     "name": "stdout",
     "output_type": "stream",
     "text": [
      "DEBUG: Texto extraído por fitz (216619 chars).\n",
      "DEBUG: Texto extraído por fitz (19635 chars).\n"
     ]
    },
    {
     "name": "stderr",
     "output_type": "stream",
     "text": [
      "Extraindo Texto:  70%|███████   | 105/150 [00:26<00:08,  5.61it/s]"
     ]
    },
    {
     "name": "stdout",
     "output_type": "stream",
     "text": [
      "DEBUG: Texto extraído por fitz (241528 chars).\n"
     ]
    },
    {
     "name": "stderr",
     "output_type": "stream",
     "text": [
      "Extraindo Texto:  71%|███████▏  | 107/150 [00:26<00:09,  4.78it/s]"
     ]
    },
    {
     "name": "stdout",
     "output_type": "stream",
     "text": [
      "DEBUG: Texto extraído por fitz (76415 chars).\n"
     ]
    },
    {
     "name": "stderr",
     "output_type": "stream",
     "text": [
      "Extraindo Texto:  72%|███████▏  | 108/150 [00:27<00:12,  3.40it/s]"
     ]
    },
    {
     "name": "stdout",
     "output_type": "stream",
     "text": [
      "DEBUG: Texto extraído por fitz (258738 chars).\n",
      "DEBUG: Texto extraído por fitz (30845 chars).\n"
     ]
    },
    {
     "name": "stderr",
     "output_type": "stream",
     "text": [
      "Extraindo Texto:  73%|███████▎  | 110/150 [00:27<00:09,  4.07it/s]"
     ]
    },
    {
     "name": "stdout",
     "output_type": "stream",
     "text": [
      "DEBUG: Texto extraído por fitz (68488 chars).\n"
     ]
    },
    {
     "name": "stderr",
     "output_type": "stream",
     "text": [
      "Extraindo Texto:  75%|███████▍  | 112/150 [00:29<00:20,  1.82it/s]"
     ]
    },
    {
     "name": "stdout",
     "output_type": "stream",
     "text": [
      "DEBUG: Texto extraído por fitz (480847 chars).\n"
     ]
    },
    {
     "name": "stderr",
     "output_type": "stream",
     "text": [
      "Extraindo Texto:  75%|███████▌  | 113/150 [00:29<00:16,  2.20it/s]"
     ]
    },
    {
     "name": "stdout",
     "output_type": "stream",
     "text": [
      "DEBUG: Texto extraído por fitz (38612 chars).\n"
     ]
    },
    {
     "name": "stderr",
     "output_type": "stream",
     "text": [
      "Extraindo Texto:  76%|███████▌  | 114/150 [00:30<00:18,  1.94it/s]encoding error : input conversion failed due to input error, bytes 0x81 0xC7 0xAA 0x41\n",
      "Extraindo Texto:  77%|███████▋  | 115/150 [00:30<00:14,  2.46it/s]encoding error : input conversion failed due to input error, bytes 0x81 0xC7 0xAA 0x41\n",
      "Extraindo Texto:  77%|███████▋  | 116/150 [00:30<00:11,  3.02it/s]"
     ]
    },
    {
     "name": "stdout",
     "output_type": "stream",
     "text": [
      "DEBUG: Texto extraído por fitz (70986 chars).\n"
     ]
    },
    {
     "name": "stderr",
     "output_type": "stream",
     "text": [
      "Extraindo Texto:  78%|███████▊  | 117/150 [00:31<00:15,  2.06it/s]"
     ]
    },
    {
     "name": "stdout",
     "output_type": "stream",
     "text": [
      "DEBUG: Texto extraído por fitz (553793 chars).\n",
      "DEBUG: Texto extraído por fitz (228572 chars).\n"
     ]
    },
    {
     "name": "stderr",
     "output_type": "stream",
     "text": [
      "Extraindo Texto:  79%|███████▉  | 119/150 [00:31<00:09,  3.18it/s]"
     ]
    },
    {
     "name": "stdout",
     "output_type": "stream",
     "text": [
      "DEBUG: Texto extraído por fitz (21349 chars).\n"
     ]
    },
    {
     "name": "stderr",
     "output_type": "stream",
     "text": [
      "Extraindo Texto:  80%|████████  | 120/150 [00:32<00:10,  2.97it/s]"
     ]
    },
    {
     "name": "stdout",
     "output_type": "stream",
     "text": [
      "DEBUG: Texto extraído por fitz (187576 chars).\n"
     ]
    },
    {
     "name": "stderr",
     "output_type": "stream",
     "text": [
      "Extraindo Texto:  81%|████████  | 121/150 [00:32<00:10,  2.68it/s]"
     ]
    },
    {
     "name": "stdout",
     "output_type": "stream",
     "text": [
      "DEBUG: Texto extraído por fitz (439276 chars).\n",
      "DEBUG: Texto extraído por fitz (1350967 chars).\n"
     ]
    },
    {
     "name": "stderr",
     "output_type": "stream",
     "text": [
      "Extraindo Texto:  82%|████████▏ | 123/150 [00:35<00:21,  1.28it/s]"
     ]
    },
    {
     "name": "stdout",
     "output_type": "stream",
     "text": [
      "DEBUG: Texto extraído por fitz (688501 chars).\n"
     ]
    },
    {
     "name": "stderr",
     "output_type": "stream",
     "text": [
      "Extraindo Texto:  83%|████████▎ | 124/150 [00:35<00:18,  1.40it/s]"
     ]
    },
    {
     "name": "stdout",
     "output_type": "stream",
     "text": [
      "DEBUG: Texto extraído por fitz (366969 chars).\n"
     ]
    },
    {
     "name": "stderr",
     "output_type": "stream",
     "text": [
      "Extraindo Texto:  84%|████████▍ | 126/150 [00:37<00:19,  1.21it/s]"
     ]
    },
    {
     "name": "stdout",
     "output_type": "stream",
     "text": [
      "DEBUG: Texto extraído por fitz (278173 chars).\n",
      "DEBUG: Texto extraído por fitz (29034 chars).\n"
     ]
    },
    {
     "name": "stderr",
     "output_type": "stream",
     "text": [
      "Extraindo Texto:  85%|████████▌ | 128/150 [00:38<00:12,  1.69it/s]"
     ]
    },
    {
     "name": "stdout",
     "output_type": "stream",
     "text": [
      "DEBUG: Texto extraído por fitz (316732 chars).\n"
     ]
    },
    {
     "name": "stderr",
     "output_type": "stream",
     "text": [
      "Extraindo Texto:  86%|████████▌ | 129/150 [00:38<00:11,  1.89it/s]"
     ]
    },
    {
     "name": "stdout",
     "output_type": "stream",
     "text": [
      "DEBUG: Texto extraído por fitz (264583 chars).\n"
     ]
    },
    {
     "name": "stderr",
     "output_type": "stream",
     "text": [
      "Extraindo Texto:  87%|████████▋ | 130/150 [00:38<00:09,  2.21it/s]"
     ]
    },
    {
     "name": "stdout",
     "output_type": "stream",
     "text": [
      "DEBUG: Texto extraído por fitz (92009 chars).\n",
      "DEBUG: Texto extraído por fitz (180092 chars).\n"
     ]
    },
    {
     "name": "stderr",
     "output_type": "stream",
     "text": [
      "Extraindo Texto:  89%|████████▊ | 133/150 [00:40<00:08,  2.10it/s]"
     ]
    },
    {
     "name": "stdout",
     "output_type": "stream",
     "text": [
      "DEBUG: Texto extraído por fitz (489138 chars).\n",
      "DEBUG: Texto extraído por fitz (132270 chars).\n"
     ]
    },
    {
     "name": "stderr",
     "output_type": "stream",
     "text": [
      "Extraindo Texto:  90%|█████████ | 135/150 [00:40<00:04,  3.12it/s]"
     ]
    },
    {
     "name": "stdout",
     "output_type": "stream",
     "text": [
      "DEBUG: Texto extraído por fitz (19186 chars).\n"
     ]
    },
    {
     "name": "stderr",
     "output_type": "stream",
     "text": [
      "Extraindo Texto:  91%|█████████ | 136/150 [00:40<00:04,  3.04it/s]"
     ]
    },
    {
     "name": "stdout",
     "output_type": "stream",
     "text": [
      "DEBUG: Texto extraído por fitz (224074 chars).DEBUG: Texto extraído por fitz (46592 chars).\n",
      "\n"
     ]
    },
    {
     "name": "stderr",
     "output_type": "stream",
     "text": [
      "Extraindo Texto:  92%|█████████▏| 138/150 [00:41<00:03,  3.99it/s]"
     ]
    },
    {
     "name": "stdout",
     "output_type": "stream",
     "text": [
      "DEBUG: Texto extraído por fitz (118568 chars).\n",
      "DEBUG: Texto extraído por fitz (86566 chars).\n"
     ]
    },
    {
     "name": "stderr",
     "output_type": "stream",
     "text": [
      "Extraindo Texto:  93%|█████████▎| 140/150 [00:41<00:03,  3.12it/s]"
     ]
    },
    {
     "name": "stdout",
     "output_type": "stream",
     "text": [
      "DEBUG: Texto extraído por fitz (91396 chars).\n",
      "DEBUG: Texto extraído por fitz (222473 chars).\n"
     ]
    },
    {
     "name": "stderr",
     "output_type": "stream",
     "text": [
      "Extraindo Texto:  95%|█████████▍| 142/150 [00:43<00:04,  1.74it/s]"
     ]
    },
    {
     "name": "stdout",
     "output_type": "stream",
     "text": [
      "DEBUG: Texto extraído por fitz (555392 chars).\n"
     ]
    },
    {
     "name": "stderr",
     "output_type": "stream",
     "text": [
      "Extraindo Texto:  95%|█████████▌| 143/150 [00:45<00:07,  1.04s/it]"
     ]
    },
    {
     "name": "stdout",
     "output_type": "stream",
     "text": [
      "DEBUG: Texto extraído por fitz (526002 chars).\n"
     ]
    },
    {
     "name": "stderr",
     "output_type": "stream",
     "text": [
      "Extraindo Texto:  96%|█████████▌| 144/150 [00:45<00:04,  1.27it/s]"
     ]
    },
    {
     "name": "stdout",
     "output_type": "stream",
     "text": [
      "DEBUG: Texto extraído por fitz (190083 chars).\n",
      "DEBUG: Texto extraído por fitz (62712 chars).\n"
     ]
    },
    {
     "name": "stderr",
     "output_type": "stream",
     "text": [
      "Extraindo Texto:  97%|█████████▋| 146/150 [00:47<00:02,  1.48it/s]encoding error : input conversion failed due to input error, bytes 0x90 0x64 0xCC 0x5C\n",
      "encoding error : input conversion failed due to input error, bytes 0x90 0x64 0xCC 0x5C\n",
      "Extraindo Texto:  99%|█████████▊| 148/150 [01:02<00:09,  4.74s/it]"
     ]
    },
    {
     "name": "stdout",
     "output_type": "stream",
     "text": [
      "DEBUG: Texto extraído por fitz (1250181 chars).\n"
     ]
    },
    {
     "name": "stderr",
     "output_type": "stream",
     "text": [
      "Extraindo Texto: 100%|██████████| 150/150 [01:02<00:00,  2.39it/s]"
     ]
    },
    {
     "name": "stdout",
     "output_type": "stream",
     "text": [
      "\n",
      "Itens processados: 150\n",
      "\n",
      "Itens falhados: 34\n"
     ]
    },
    {
     "name": "stderr",
     "output_type": "stream",
     "text": [
      "\n"
     ]
    }
   ],
   "source": [
    "# --- Método 2: Extração e Limpeza dos Dados ---\n",
    "def process_raw_and_extract(raw_item):\n",
    "    \"\"\"Extrai o texto, limpa, verifica o tamanho e salva o arquivo .txt.\"\"\"\n",
    "    \n",
    "    # Retorna itens que falharam na fase anterior\n",
    "    if raw_item[\"status\"] != \"download_ok\":\n",
    "        return raw_item \n",
    "        \n",
    "    url = raw_item[\"url\"]\n",
    "    raw_path = Path(raw_item[\"raw_path\"])\n",
    "    is_pdf = raw_item[\"is_pdf\"]\n",
    "    content = raw_item[\"content\"]\n",
    "    \n",
    "    # Início da lógica de extração\n",
    "    try:\n",
    "        if is_pdf:\n",
    "            text = extract_pdf_text(str(raw_path)) \n",
    "        else:\n",
    "            text = extract_html_main(content)\n",
    "    except Exception as e:\n",
    "        text = \"\"\n",
    "        print(e)\n",
    "        log.error(f\"Extraction error for {url}: {e}\")\n",
    "        \n",
    "    text = clean_text(text)\n",
    "    \n",
    "    # Verifica o tamanho (lógica original)\n",
    "    if len(text) < MIN_CHARS:\n",
    "        return {\"url\": url, \"status\": \"too_short\", \"chars\": len(text)}\n",
    "        \n",
    "    # Salvar o texto limpo\n",
    "    ext_raw = \".pdf\" if is_pdf else \".html\"\n",
    "    tname = raw_path.name.replace(ext_raw, \".txt\")\n",
    "    text_path = TEXT_DIR / tname\n",
    "    \n",
    "    try:\n",
    "        text_path.write_text(text, encoding=\"utf-8\")\n",
    "    except Exception as e:\n",
    "        return {\"url\": url, \"status\": f\"save_text_error:{e}\"}\n",
    "        \n",
    "    # Retorno final de sucesso\n",
    "    return {\n",
    "        \"url\": url, \n",
    "        \"status\": \"ok\", \n",
    "        \"text_path\": str(text_path), \n",
    "        \"chars\": len(text)\n",
    "    }\n",
    "\n",
    "# 2. FASE DE EXTRAÇÃO\n",
    "print(\"\\n--- FASE 2: EXTRAÇÃO E LIMPEZA DE TEXTO ---\")\n",
    "# Filtra apenas os itens baixados com sucesso para a extração\n",
    "raw_items_to_process = [r for r in download_results if r[\"status\"] == \"download_ok\"]\n",
    "failed_downloads = [r for r in download_results if r[\"status\"] != \"download_ok\"] # Itens que falharam no download\n",
    "\n",
    "if raw_items_to_process:\n",
    "    with ThreadPoolExecutor(max_workers=MAX_WORKERS) as ex_extract:\n",
    "        futs_extract = [ex_extract.submit(process_raw_and_extract, r) for r in raw_items_to_process]\n",
    "        for fut_extract in tqdm(as_completed(futs_extract), total=len(futs_extract), desc=\"Extraindo Texto\"):\n",
    "            results.append(fut_extract.result())\n",
    "            \n",
    "    # Adiciona as falhas de download aos resultados finais\n",
    "    results.extend(failed_downloads)\n",
    "else:\n",
    "    log.warning(\"Nenhum arquivo bruto baixado com sucesso para extração.\")\n",
    "\n",
    "print(f\"\\nItens processados: {len(raw_items_to_process)}\")\n",
    "print(f\"\\nItens falhados: {len(failed_downloads)}\")"
   ]
  },
  {
   "cell_type": "markdown",
   "id": "24e34d11",
   "metadata": {},
   "source": [
    "## 7) Deduplicar por hash e gerar shards JSONL (Mantendo Metadados Originais)"
   ]
  },
  {
   "cell_type": "code",
   "execution_count": 44,
   "id": "072994d7",
   "metadata": {},
   "outputs": [
    {
     "name": "stderr",
     "output_type": "stream",
     "text": [
      "2025-10-30 16:35:42,507 INFO: Shard salvo: corpus_out_nb/data/shards/corpus_0000.jsonl\n",
      "2025-10-30 16:35:42,508 INFO: Itens OK após extração: 338\n",
      "2025-10-30 16:35:42,508 INFO: Documentos únicos (após deduplicação por hash): 145\n"
     ]
    },
    {
     "data": {
      "text/plain": [
       "(338, 145)"
      ]
     },
     "execution_count": 44,
     "metadata": {},
     "output_type": "execute_result"
    }
   ],
   "source": [
    "\n",
    "import json\n",
    "\n",
    "SHARDS_DIR = OUTDIR / \"data\" / \"shards\"\n",
    "SHARDS_DIR.mkdir(parents=True, exist_ok=True)\n",
    "seen_hash = set()\n",
    "shard_bytes_limit = int(SHARD_SIZE_MB * 1024 * 1024)\n",
    "buf = []; size = 0; shard_id = 0\n",
    "\n",
    "def flush():\n",
    "    global buf, size, shard_id\n",
    "    if not buf: return\n",
    "    out_path = SHARDS_DIR / f\"corpus_{shard_id:04d}.jsonl\"\n",
    "    with out_path.open(\"w\", encoding=\"utf-8\") as f:\n",
    "        for line in buf:\n",
    "            f.write(line + \"\\n\")\n",
    "    buf = []; size = 0; shard_id += 1\n",
    "    log.info(\"Shard salvo: %s\", out_path)\n",
    "\n",
    "ok_items = [r for r in results if r.get(\"status\") == \"ok\"]\n",
    "\n",
    "# Mapear URL_norm de volta para os metadados originais\n",
    "meta_map = dedup.set_index('url_norm').to_dict('index')\n",
    "\n",
    "for item in ok_items:\n",
    "    try:\n",
    "        text = Path(item[\"text_path\"]).read_text(encoding=\"utf-8\")\n",
    "    except Exception:\n",
    "        continue\n",
    "        \n",
    "    # Deduplicação por Hash do Conteúdo\n",
    "    h = sha1(text)\n",
    "    if h in seen_hash:\n",
    "        continue\n",
    "    seen_hash.add(h)\n",
    "    \n",
    "    # Resgatar Metadados Originais\n",
    "    url_norm = norm_url(item[\"url\"])\n",
    "    metadata = meta_map.get(url_norm, {})\n",
    "    \n",
    "    # Criar o objeto JSONL final (estrutura de saída inalterada no formato dos metadados)\n",
    "    final_record = {\n",
    "        \"text\": text\n",
    "    }\n",
    "    \n",
    "    # Filtrar chaves com valor None/NaN para manter a limpeza do JSONL\n",
    "    final_record = {k: v for k, v in final_record.items() if v is not None and not pd.isna(v)}\n",
    "    \n",
    "    line = json.dumps(final_record, ensure_ascii=False)\n",
    "    buf.append(line); size += len(line.encode(\"utf-8\"))\n",
    "    \n",
    "    if size >= shard_bytes_limit:\n",
    "        flush()\n",
    "flush()\n",
    "\n",
    "log.info(\"Itens OK após extração: %d\", len(ok_items))\n",
    "log.info(\"Documentos únicos (após deduplicação por hash): %d\", len(seen_hash))\n",
    "\n",
    "len(ok_items), len(seen_hash)\n"
   ]
  },
  {
   "cell_type": "markdown",
   "id": "4f2652e5",
   "metadata": {},
   "source": [
    "## 8) Relatório final"
   ]
  },
  {
   "cell_type": "code",
   "execution_count": 43,
   "id": "300d6578",
   "metadata": {},
   "outputs": [
    {
     "name": "stdout",
     "output_type": "stream",
     "text": [
      "=========================================\n",
      "✅ Documentos Únicos e Válidos Extraídos: 145\n",
      "=========================================\n"
     ]
    },
    {
     "data": {
      "text/plain": [
       "145"
      ]
     },
     "execution_count": 43,
     "metadata": {},
     "output_type": "execute_result"
    }
   ],
   "source": [
    "# Célula 8 (Sintética): Imprimir Estatística Principal\n",
    "\n",
    "# A variável 'seen_hash' é assumida como definida no Bloco 7.\n",
    "# Garante que a variável exista para evitar NameError (fallback de segurança)\n",
    "if 'seen_hash' not in locals():\n",
    "    seen_hash = set()\n",
    "\n",
    "# Calcula a estatística principal\n",
    "total_documentos_unicos = len(seen_hash)\n",
    "\n",
    "# Imprime o resultado de forma clara\n",
    "print(\"=========================================\")\n",
    "print(f\"✅ Documentos Únicos e Válidos Extraídos: {total_documentos_unicos}\")\n",
    "print(\"=========================================\")\n",
    "\n",
    "# Retorna a variável para manter a consistência do notebook\n",
    "total_documentos_unicos"
   ]
  },
  {
   "cell_type": "markdown",
   "id": "c0900293",
   "metadata": {},
   "source": [
    "\n",
    "## 9) Dicas\n",
    "- Se um host estiver lento, ajuste: `MAX_WORKERS = 1`, `RATE = 0.5`, `TIMEOUT = 10`.\n",
    "- Para debug detalhado: `LOG_LEVEL = \"DEBUG\"`.\n",
    "- Se precisar **ignorar robots** para diagnóstico rápido, troque `robots.can_fetch(url)` para sempre `True` (apenas para teste).\n",
    "- Para enriquecer metadados, crie um `index.csv` registrando `url`, `hash`, `path` e `chars` durante o loop.\n"
   ]
  }
 ],
 "metadata": {
  "kernelspec": {
   "display_name": "Python 3",
   "language": "python",
   "name": "python3"
  },
  "language_info": {
   "codemirror_mode": {
    "name": "ipython",
    "version": 3
   },
   "file_extension": ".py",
   "mimetype": "text/x-python",
   "name": "python",
   "nbconvert_exporter": "python",
   "pygments_lexer": "ipython3",
   "version": "3.10.12"
  }
 },
 "nbformat": 4,
 "nbformat_minor": 5
}
